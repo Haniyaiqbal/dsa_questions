{
 "cells": [
  {
   "cell_type": "code",
   "execution_count": 8,
   "metadata": {},
   "outputs": [
    {
     "name": "stdout",
     "output_type": "stream",
     "text": [
      "7 is at 6 index\n"
     ]
    }
   ],
   "source": [
    "memo = [2,3,4,5,6,8,7]\n",
    "\n",
    "target = 7\n",
    "\n",
    "for i in range(0,len(memo)):\n",
    "    if memo[i]==target:\n",
    "        print(f'{target} is at {i} index')"
   ]
  },
  {
   "cell_type": "code",
   "execution_count": 19,
   "metadata": {},
   "outputs": [
    {
     "name": "stdout",
     "output_type": "stream",
     "text": [
      "3\n"
     ]
    }
   ],
   "source": [
    "def binary(memo, left, right, target):\n",
    "\n",
    "    if left<=right:\n",
    "\n",
    "        mid = (left+right)//2\n",
    "\n",
    "        if memo[mid] == target:\n",
    "\n",
    "            return mid\n",
    "\n",
    "        elif memo[mid]>target:\n",
    "\n",
    "            return binary(memo, left, mid-1, target)\n",
    "        else:\n",
    "            return binary(memo, mid+1, right, target)\n",
    "    else:\n",
    "\n",
    "        return -1\n",
    "\n",
    "memo = [1,2,3,4,5,6,7]\n",
    "left = 0\n",
    "right = len(memo)-1\n",
    "target = 4\n",
    "\n",
    "print(binary(memo,left, right, target))\n"
   ]
  }
 ],
 "metadata": {
  "kernelspec": {
   "display_name": ".venv",
   "language": "python",
   "name": "python3"
  },
  "language_info": {
   "codemirror_mode": {
    "name": "ipython",
    "version": 3
   },
   "file_extension": ".py",
   "mimetype": "text/x-python",
   "name": "python",
   "nbconvert_exporter": "python",
   "pygments_lexer": "ipython3",
   "version": "3.12.3"
  }
 },
 "nbformat": 4,
 "nbformat_minor": 2
}
