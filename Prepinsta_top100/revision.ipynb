{
 "cells": [
  {
   "cell_type": "code",
   "execution_count": 16,
   "metadata": {},
   "outputs": [
    {
     "name": "stdout",
     "output_type": "stream",
     "text": [
      "pos\n"
     ]
    }
   ],
   "source": [
    "def pos(n):\n",
    "\n",
    "    if n>0:\n",
    "\n",
    "        print(\"pos\")\n",
    "    else:\n",
    "\n",
    "        print('neg')\n",
    "\n",
    "pos(5)"
   ]
  },
  {
   "cell_type": "code",
   "execution_count": 17,
   "metadata": {},
   "outputs": [
    {
     "name": "stdout",
     "output_type": "stream",
     "text": [
      "odd\n"
     ]
    }
   ],
   "source": [
    "def even(n):\n",
    "\n",
    "    if n%2==0:\n",
    "\n",
    "        print('even')\n",
    "    else:\n",
    "        print('odd')\n",
    "\n",
    "even(5)"
   ]
  },
  {
   "cell_type": "code",
   "execution_count": 18,
   "metadata": {},
   "outputs": [
    {
     "name": "stdout",
     "output_type": "stream",
     "text": [
      "10\n"
     ]
    }
   ],
   "source": [
    "def fsum_n(n):\n",
    "\n",
    "    return sum(range(1, n+1))\n",
    "\n",
    "print(fsum_n(4))"
   ]
  },
  {
   "cell_type": "code",
   "execution_count": 19,
   "metadata": {},
   "outputs": [
    {
     "name": "stdout",
     "output_type": "stream",
     "text": [
      "21\n"
     ]
    }
   ],
   "source": [
    "def sum_n(n):\n",
    "\n",
    "    sum = int(n*(n+1)/2)\n",
    "\n",
    "    return sum\n",
    "    \n",
    "print(sum_n(6))\n",
    "    "
   ]
  },
  {
   "cell_type": "code",
   "execution_count": 20,
   "metadata": {},
   "outputs": [
    {
     "name": "stdout",
     "output_type": "stream",
     "text": [
      "27\n"
     ]
    }
   ],
   "source": [
    "def suminrange(a,b):\n",
    "\n",
    "    return sum(range(a,b+1))\n",
    "\n",
    "print(suminrange(2,7))"
   ]
  },
  {
   "cell_type": "code",
   "execution_count": 21,
   "metadata": {},
   "outputs": [
    {
     "name": "stdout",
     "output_type": "stream",
     "text": [
      "7\n"
     ]
    }
   ],
   "source": [
    "def great(a,b):\n",
    "\n",
    "    return a if a>b else b\n",
    "\n",
    "print(great(2,7))"
   ]
  },
  {
   "cell_type": "code",
   "execution_count": 22,
   "metadata": {},
   "outputs": [
    {
     "name": "stdout",
     "output_type": "stream",
     "text": [
      "3\n"
     ]
    }
   ],
   "source": [
    "def great3(a,b,c):\n",
    "\n",
    "    return max(a,b,c)\n",
    "\n",
    "print(great3(1,2,3))"
   ]
  },
  {
   "cell_type": "code",
   "execution_count": 23,
   "metadata": {},
   "outputs": [
    {
     "name": "stdout",
     "output_type": "stream",
     "text": [
      "True\n"
     ]
    }
   ],
   "source": [
    "def leap(n):\n",
    "\n",
    "    if (n%4==0 and n%100!=0) or (n%400==0):\n",
    "\n",
    "        return True\n",
    "    else:\n",
    "\n",
    "        return False\n",
    "    \n",
    "print(leap(2016))"
   ]
  },
  {
   "cell_type": "code",
   "execution_count": 24,
   "metadata": {},
   "outputs": [
    {
     "name": "stdout",
     "output_type": "stream",
     "text": [
      "False\n"
     ]
    }
   ],
   "source": [
    "from math import sqrt\n",
    "\n",
    "def prime(n):\n",
    "\n",
    "    if n < 0:\n",
    "\n",
    "        return False\n",
    "    \n",
    "        \n",
    "    for i in range(2, int(sqrt(n))+1):\n",
    "\n",
    "        if n%i==0:\n",
    "\n",
    "            return False\n",
    "\n",
    "    return True\n",
    "\n",
    "print(prime(-1))"
   ]
  },
  {
   "cell_type": "code",
   "execution_count": 25,
   "metadata": {},
   "outputs": [
    {
     "name": "stdout",
     "output_type": "stream",
     "text": [
      "[11, 13, 17, 19, 23, 29, 31, 37, 41, 43, 47]\n"
     ]
    }
   ],
   "source": [
    "def primeinrange(a,b):\n",
    "\n",
    "    primes = [True]*(b+1)\n",
    "\n",
    "    p = 2\n",
    "\n",
    "    while p*p<=b:\n",
    "\n",
    "        if primes[p]:\n",
    "\n",
    "            for i in range(p*p, b+1, p):\n",
    "\n",
    "                primes[i] = False\n",
    "\n",
    "        p+=1\n",
    "\n",
    "\n",
    "    primesf = [i for i in range(max(2,a),b+1) if primes[i]]\n",
    "\n",
    "    return primesf\n",
    "\n",
    "print(primeinrange(10,50))"
   ]
  },
  {
   "cell_type": "code",
   "execution_count": 26,
   "metadata": {},
   "outputs": [
    {
     "name": "stdout",
     "output_type": "stream",
     "text": [
      "13\n"
     ]
    }
   ],
   "source": [
    "def sumd(num):\n",
    "\n",
    "    sum = 0\n",
    "\n",
    "    while num>0:\n",
    "\n",
    "        last = num%10\n",
    "\n",
    "        sum = sum+last\n",
    "\n",
    "        num = num//10\n",
    "\n",
    "    return sum\n",
    "\n",
    "print(sumd(724))\n"
   ]
  },
  {
   "cell_type": "code",
   "execution_count": 27,
   "metadata": {},
   "outputs": [
    {
     "name": "stdout",
     "output_type": "stream",
     "text": [
      "427\n"
     ]
    }
   ],
   "source": [
    "def reverse(num):\n",
    "\n",
    "    reverse = 0\n",
    "\n",
    "    while num>0:\n",
    "\n",
    "        last = num%10\n",
    "        reverse = reverse*10 + last\n",
    "        num = num//10\n",
    "\n",
    "    return reverse\n",
    "\n",
    "print(reverse(724))"
   ]
  },
  {
   "cell_type": "code",
   "execution_count": 28,
   "metadata": {},
   "outputs": [
    {
     "name": "stdout",
     "output_type": "stream",
     "text": [
      "True\n"
     ]
    }
   ],
   "source": [
    "def arm(n):\n",
    "\n",
    "    sum = 0\n",
    "    l = len(str(n))\n",
    "    temp = n\n",
    "\n",
    "    while temp>0:\n",
    "\n",
    "        last = temp%10\n",
    "\n",
    "        sum = sum+pow(last,l)\n",
    "\n",
    "        temp = temp//10\n",
    "\n",
    "    return sum == n\n",
    "\n",
    "print(arm(153))\n",
    "    "
   ]
  },
  {
   "cell_type": "code",
   "execution_count": 29,
   "metadata": {},
   "outputs": [
    {
     "name": "stdout",
     "output_type": "stream",
     "text": [
      "[1, 2, 3, 4, 5, 6, 7, 8, 9, 153]\n"
     ]
    }
   ],
   "source": [
    "def armR(a,b):\n",
    "\n",
    "    allarms = []\n",
    "\n",
    "    for i in range(a,b+1):\n",
    "\n",
    "        if arm(i):\n",
    "\n",
    "            allarms.append(i)\n",
    "\n",
    "    return allarms\n",
    "\n",
    "def arm(n):\n",
    "\n",
    "    sum = 0\n",
    "    l = len(str(n))\n",
    "    temp = n\n",
    "\n",
    "    while temp>0:\n",
    "\n",
    "        last = temp%10\n",
    "\n",
    "        sum = sum+pow(last,l)\n",
    "\n",
    "        temp = temp//10\n",
    "\n",
    "    return sum == n\n",
    "\n",
    "print(armR(1,200))"
   ]
  },
  {
   "cell_type": "code",
   "execution_count": 2,
   "metadata": {},
   "outputs": [
    {
     "name": "stdout",
     "output_type": "stream",
     "text": [
      "1\n",
      "2\n",
      "3\n",
      "5\n",
      "8\n",
      "13\n",
      "21\n",
      "34\n"
     ]
    },
    {
     "data": {
      "text/plain": [
       "34"
      ]
     },
     "execution_count": 2,
     "metadata": {},
     "output_type": "execute_result"
    }
   ],
   "source": [
    "def fib(n):\n",
    "\n",
    "    a = 0\n",
    "    b= 1\n",
    "\n",
    "    if n<0:\n",
    "\n",
    "        print('invalid number')\n",
    "        return -1\n",
    "    \n",
    "    elif n <=1:\n",
    "\n",
    "        print(n)\n",
    "        return n\n",
    "    \n",
    "\n",
    "    else :\n",
    "\n",
    "        for i in range(n-1):\n",
    "\n",
    "            c = a+b\n",
    "            a=b\n",
    "            b=c\n",
    "\n",
    "            print(c)\n",
    "            \n",
    "        return c\n",
    "        \n",
    "fib(9)"
   ]
  },
  {
   "cell_type": "code",
   "execution_count": 31,
   "metadata": {},
   "outputs": [
    {
     "name": "stdout",
     "output_type": "stream",
     "text": [
      "120\n"
     ]
    }
   ],
   "source": [
    "def fact(n):\n",
    "\n",
    "    if n == 0 or n ==1:\n",
    "\n",
    "        return n\n",
    "\n",
    "    return n*fact(n-1)\n",
    "\n",
    "print(fact(5))"
   ]
  },
  {
   "cell_type": "code",
   "execution_count": 32,
   "metadata": {},
   "outputs": [
    {
     "name": "stdout",
     "output_type": "stream",
     "text": [
      "8\n"
     ]
    }
   ],
   "source": [
    "def power(n,m):\n",
    "\n",
    "    return n**m\n",
    "\n",
    "print(power(2,3))"
   ]
  },
  {
   "cell_type": "code",
   "execution_count": 33,
   "metadata": {},
   "outputs": [
    {
     "name": "stdout",
     "output_type": "stream",
     "text": [
      "[1, 25, 5]\n"
     ]
    }
   ],
   "source": [
    "from math import sqrt\n",
    "\n",
    "def factors(n):\n",
    "\n",
    "    factors = []\n",
    "\n",
    "    for i in range(1,int(sqrt(n))+1):\n",
    "\n",
    "        if n%i==0:\n",
    "\n",
    "            if n//i == i:\n",
    "\n",
    "                factors.append(i)\n",
    "            \n",
    "            else:\n",
    "\n",
    "                factors.append(i)\n",
    "\n",
    "                factors.append(n//i)\n",
    "    \n",
    "    return factors\n",
    "\n",
    "print(factors(25))\n"
   ]
  },
  {
   "cell_type": "code",
   "execution_count": 34,
   "metadata": {},
   "outputs": [
    {
     "name": "stdout",
     "output_type": "stream",
     "text": [
      "{11}\n"
     ]
    }
   ],
   "source": [
    "def primefacts(n):\n",
    "\n",
    "    primefacts = set()\n",
    "\n",
    "    while n%2==0:\n",
    "\n",
    "        primefacts.add(2)\n",
    "\n",
    "        n = n//2\n",
    "\n",
    "    for i in range(3,int(sqrt(n))+1):\n",
    "\n",
    "        if n%i == 0:\n",
    "\n",
    "            primefacts.add(i)\n",
    "\n",
    "            n = n //i\n",
    "        \n",
    "    if n >2:\n",
    "\n",
    "        primefacts.add(n)\n",
    "\n",
    "    return primefacts\n",
    "\n",
    "print(primefacts(11))\n"
   ]
  },
  {
   "cell_type": "code",
   "execution_count": 37,
   "metadata": {},
   "outputs": [
    {
     "name": "stdout",
     "output_type": "stream",
     "text": [
      "True\n"
     ]
    }
   ],
   "source": [
    "#strong\n",
    "\n",
    "def strong(n):\n",
    "\n",
    "    temp = n\n",
    "    sum = 0\n",
    "\n",
    "    for i in range(n):\n",
    "\n",
    "        last = temp%10\n",
    "        sum = sum + fact(last)\n",
    "        temp = temp//10\n",
    "\n",
    "    return True if sum == n else False\n",
    "\n",
    "print(strong(145))"
   ]
  },
  {
   "cell_type": "code",
   "execution_count": 43,
   "metadata": {},
   "outputs": [
    {
     "name": "stdout",
     "output_type": "stream",
     "text": [
      "True\n"
     ]
    }
   ],
   "source": [
    "def factors(n):\n",
    "\n",
    "    fac = []\n",
    "\n",
    "    for i in range(2,int(sqrt(n))+1):\n",
    "\n",
    "        if n%i == 0:\n",
    "\n",
    "            if n//i == i:\n",
    "\n",
    "                fac.append(i)\n",
    "\n",
    "            else:\n",
    "\n",
    "                fac.append(i)\n",
    "                fac.append(n//i)\n",
    "        \n",
    "    fac.append(1)\n",
    "\n",
    "    return fac\n",
    "\n",
    "\n",
    "def perfect(num):\n",
    "\n",
    "    if num == sum(factors(num)):\n",
    "\n",
    "        return True\n",
    "    else:\n",
    "\n",
    "        return False\n",
    "    \n",
    "print(perfect(28))\n",
    "\n"
   ]
  },
  {
   "cell_type": "code",
   "execution_count": 44,
   "metadata": {},
   "outputs": [
    {
     "name": "stdout",
     "output_type": "stream",
     "text": [
      "True\n"
     ]
    }
   ],
   "source": [
    "def friendlypair(a,b):\n",
    "\n",
    "    if sum(factors(a)) // a == sum(factors(b)) //b:\n",
    "\n",
    "        return True\n",
    "    else:\n",
    "        return False\n",
    "    \n",
    "def factors(n):\n",
    "\n",
    "    fac = []\n",
    "\n",
    "    for i in range(2,int(sqrt(n))+1):\n",
    "\n",
    "        if n%i == 0:\n",
    "\n",
    "            if n//i == i:\n",
    "\n",
    "                fac.append(i)\n",
    "\n",
    "            else:\n",
    "\n",
    "                fac.append(i)\n",
    "                fac.append(n//i)\n",
    "        \n",
    "    fac.append(1)\n",
    "\n",
    "    return fac\n",
    "\n",
    "\n",
    "print(friendlypair(6,28))"
   ]
  },
  {
   "cell_type": "code",
   "execution_count": 46,
   "metadata": {},
   "outputs": [
    {
     "name": "stdout",
     "output_type": "stream",
     "text": [
      "6\n"
     ]
    }
   ],
   "source": [
    "def hcf(a,b):\n",
    "\n",
    "    while b !=0:\n",
    "\n",
    "        a,b = b, a%b\n",
    "\n",
    "    return a\n",
    "\n",
    "print(hcf(6,36))"
   ]
  },
  {
   "cell_type": "code",
   "execution_count": 49,
   "metadata": {},
   "outputs": [
    {
     "name": "stdout",
     "output_type": "stream",
     "text": [
      "180\n"
     ]
    }
   ],
   "source": [
    "def lcm_(a,b):\n",
    "\n",
    "    original_a, original_b = a, b\n",
    "\n",
    "    while b!=0:\n",
    "\n",
    "        a,b = b, a%b\n",
    "\n",
    "    hcf = a\n",
    "\n",
    "    lcm = abs(original_a * original_b)//hcf\n",
    "\n",
    "    return lcm\n",
    "\n",
    "print(lcm_(36,60))\n"
   ]
  },
  {
   "cell_type": "code",
   "execution_count": 1,
   "metadata": {},
   "outputs": [
    {
     "name": "stdout",
     "output_type": "stream",
     "text": [
      "24\n"
     ]
    }
   ],
   "source": [
    "def btod(b):\n",
    "\n",
    "    d = 0\n",
    "\n",
    "    place = 0\n",
    "\n",
    "    for i in range(b):\n",
    "\n",
    "        last = b%10\n",
    "\n",
    "        d = d + last*pow(2,place)\n",
    "\n",
    "        b = b//10\n",
    "\n",
    "        place+=1\n",
    "    \n",
    "    return d\n",
    "\n",
    "print(btod(11000))\n"
   ]
  },
  {
   "cell_type": "code",
   "execution_count": 3,
   "metadata": {},
   "outputs": [
    {
     "name": "stdout",
     "output_type": "stream",
     "text": [
      "20\n"
     ]
    }
   ],
   "source": [
    "def otod(o):\n",
    "\n",
    "    d = 0\n",
    "    place = 0\n",
    "\n",
    "    for i in range(o):\n",
    "\n",
    "        last = o%10\n",
    "        d = d + last*pow(8,place)\n",
    "        o = o//10\n",
    "        place+=1\n",
    "    \n",
    "    return d\n",
    "\n",
    "print(otod(24))"
   ]
  },
  {
   "cell_type": "code",
   "execution_count": 11,
   "metadata": {},
   "outputs": [
    {
     "name": "stdout",
     "output_type": "stream",
     "text": [
      "9383\n"
     ]
    }
   ],
   "source": [
    "def htod(h):\n",
    "\n",
    "    place = len(str(h))-1\n",
    "    \n",
    "    h_d = {'A':10,'B':11,'C':12, 'D':13,'E':14,'F':15}\n",
    "\n",
    "    d = 0\n",
    "\n",
    "    for i in range(len(h)):\n",
    "\n",
    "        if h[i].isnumeric():\n",
    "\n",
    "            d = d + int(h[i])*pow(16, place)\n",
    "\n",
    "        else:\n",
    "\n",
    "            d = d + h_d[h[i]]*pow(16, place)\n",
    "        \n",
    "        place-=1\n",
    "    \n",
    "\n",
    "    return d\n",
    "\n",
    "print(htod('24A7'))\n"
   ]
  },
  {
   "cell_type": "code",
   "execution_count": 21,
   "metadata": {},
   "outputs": [
    {
     "name": "stdout",
     "output_type": "stream",
     "text": [
      "11000\n"
     ]
    }
   ],
   "source": [
    "def dtob(d):\n",
    "\n",
    "    b = ''\n",
    "\n",
    "    while d>0:\n",
    "\n",
    "        b+= str(d%2)\n",
    "        d = d//2\n",
    "\n",
    "    return b[::-1]\n",
    "\n",
    "print(dtob(24))"
   ]
  },
  {
   "cell_type": "code",
   "execution_count": 24,
   "metadata": {},
   "outputs": [
    {
     "name": "stdout",
     "output_type": "stream",
     "text": [
      "30\n"
     ]
    }
   ],
   "source": [
    "def dtoO(d):\n",
    "\n",
    "    o = ''\n",
    "\n",
    "    while d>0:\n",
    "\n",
    "        o += str(d%8)\n",
    "\n",
    "        d = d//8\n",
    "\n",
    "    return o[::-1]\n",
    "\n",
    "print(dtoO(24))"
   ]
  },
  {
   "cell_type": "code",
   "execution_count": 25,
   "metadata": {},
   "outputs": [
    {
     "name": "stdout",
     "output_type": "stream",
     "text": [
      "2D4\n"
     ]
    }
   ],
   "source": [
    "def dtoh(d):\n",
    "\n",
    "    h = ''\n",
    "\n",
    "    all_h = '0123456789ABCDF'\n",
    "\n",
    "    while d>0:\n",
    "\n",
    "        h += all_h[d%16]\n",
    "\n",
    "        d = d//16\n",
    "\n",
    "    return h[::-1]\n",
    "\n",
    "print(dtoh(724))\n"
   ]
  },
  {
   "cell_type": "code",
   "execution_count": 31,
   "metadata": {},
   "outputs": [
    {
     "name": "stdout",
     "output_type": "stream",
     "text": [
      "32\n"
     ]
    }
   ],
   "source": [
    "def btoO(b):\n",
    "\n",
    "    o = ''\n",
    "\n",
    "    if len(b)%3==1:\n",
    "\n",
    "        b = '00' + b\n",
    "\n",
    "    elif len(b)%3==2:\n",
    "        b = '0' +b\n",
    "\n",
    "\n",
    "    all_o = {\n",
    "        '000': '0', '001': '1', '010': '2', '011': '3',\n",
    "        '100': '4', '101': '5', '110': '6', '111': '7'\n",
    "    }\n",
    "\n",
    "    for i in range(0,len(b),3):\n",
    "\n",
    "        triples = b[i:i+3]\n",
    "\n",
    "        o += all_o[triples]\n",
    "\n",
    "    return o\n",
    "\n",
    "print(btoO('11010'))\n"
   ]
  },
  {
   "cell_type": "code",
   "execution_count": 36,
   "metadata": {},
   "outputs": [
    {
     "name": "stdout",
     "output_type": "stream",
     "text": [
      "010100\n"
     ]
    }
   ],
   "source": [
    "def otob(o):\n",
    "\n",
    "    b = ''\n",
    "\n",
    "    all_b = {\n",
    "        '0': \"000\",\n",
    "        '1': \"001\",\n",
    "        '2': \"010\",\n",
    "        '3': \"011\",\n",
    "        '4': \"100\",\n",
    "        '5': \"101\",\n",
    "        '6': \"110\",\n",
    "        '7': \"111\"\n",
    "    }\n",
    "\n",
    "    for i in o:\n",
    "\n",
    "        b = b+ all_b[i]\n",
    "\n",
    "    return b\n",
    "\n",
    "print(otob('24'))"
   ]
  },
  {
   "cell_type": "code",
   "execution_count": 43,
   "metadata": {},
   "outputs": [
    {
     "name": "stdout",
     "output_type": "stream",
     "text": [
      "02010\n"
     ]
    }
   ],
   "source": [
    "def replace(n):\n",
    "\n",
    "    new = ''\n",
    "\n",
    "    while n>0:\n",
    "\n",
    "        d = n%10\n",
    "\n",
    "        if d == 0:\n",
    "\n",
    "            new+= str(1)\n",
    "        \n",
    "        elif d == 1:\n",
    "\n",
    "            new+=str(0)\n",
    "\n",
    "        else:\n",
    "\n",
    "            new+=str(d)\n",
    "\n",
    "        n = n//10\n",
    "    \n",
    "    return new[::-1]\n",
    "\n",
    "\n",
    "print(replace(12101))\n"
   ]
  },
  {
   "cell_type": "code",
   "execution_count": 58,
   "metadata": {},
   "outputs": [
    {
     "name": "stdout",
     "output_type": "stream",
     "text": [
      "[2, 3, 5, 7, 11]\n",
      "[5, 7]\n"
     ]
    }
   ],
   "source": [
    "def sieve(n):\n",
    "\n",
    "    primes = [True]*(n+1)\n",
    "\n",
    "    p = 2\n",
    "\n",
    "    while p*p <= n:\n",
    "\n",
    "        if primes[p]:\n",
    "\n",
    "            for i in range(p*p, n+1, p):\n",
    "\n",
    "                primes[i] = False\n",
    "        \n",
    "        p+=1\n",
    "\n",
    "    \n",
    "    allp = [i for i in range(2,n+1) if primes[i]]\n",
    "\n",
    "    print(allp)\n",
    "\n",
    "    return allp\n",
    "\n",
    "\n",
    "def two_sum(primes, num):\n",
    "\n",
    "    primes = set(primes)\n",
    "\n",
    "    for i in primes:\n",
    "\n",
    "        remain = num - i\n",
    "\n",
    "        if remain in primes:\n",
    "\n",
    "            return [i, remain]\n",
    "        \n",
    "def result(number):\n",
    "\n",
    "    primes = sieve(number)\n",
    "\n",
    "    r = two_sum(primes, number)\n",
    "\n",
    "    return r\n",
    "\n",
    "print(result(12))\n"
   ]
  },
  {
   "cell_type": "code",
   "execution_count": 1,
   "metadata": {},
   "outputs": [
    {
     "name": "stdout",
     "output_type": "stream",
     "text": [
      "consonant\n"
     ]
    }
   ],
   "source": [
    "def checkvowel(n):\n",
    "\n",
    "    vows = 'AIOUEaeiou'\n",
    "\n",
    "    if n in vows:\n",
    "\n",
    "        return 'vowel'\n",
    "    \n",
    "    else:\n",
    "\n",
    "        return 'consonant'\n",
    "    \n",
    "print(checkvowel('h'))"
   ]
  },
  {
   "cell_type": "code",
   "execution_count": 7,
   "metadata": {},
   "outputs": [
    {
     "name": "stdout",
     "output_type": "stream",
     "text": [
      "True\n"
     ]
    }
   ],
   "source": [
    "def checkalpha(n):\n",
    "\n",
    "    if 65 <= ord(n) <= 90 or 97 <= ord(n) <= 122:\n",
    "\n",
    "        return True\n",
    "    \n",
    "    else:\n",
    "\n",
    "        return False\n",
    "\n",
    "print(checkalpha('B'))\n",
    "\n"
   ]
  },
  {
   "cell_type": "code",
   "execution_count": 9,
   "metadata": {},
   "outputs": [
    {
     "name": "stdout",
     "output_type": "stream",
     "text": [
      "65\n"
     ]
    }
   ],
   "source": [
    "def checkasii(n):\n",
    "\n",
    "    if n.isalpha():\n",
    "\n",
    "        return ord(n)\n",
    "\n",
    "print(checkasii('A'))"
   ]
  },
  {
   "cell_type": "code",
   "execution_count": 10,
   "metadata": {},
   "outputs": [
    {
     "name": "stdout",
     "output_type": "stream",
     "text": [
      "7\n"
     ]
    }
   ],
   "source": [
    "def lenstr(n):\n",
    "\n",
    "    count = 0\n",
    "\n",
    "    for i in n:\n",
    "\n",
    "        count+=1\n",
    "\n",
    "    return count\n",
    "\n",
    "print(lenstr('AjeetBB'))"
   ]
  },
  {
   "cell_type": "code",
   "execution_count": 12,
   "metadata": {},
   "outputs": [
    {
     "name": "stdout",
     "output_type": "stream",
     "text": [
      "HaNiYa\n"
     ]
    }
   ],
   "source": [
    "def toggle(n):\n",
    "\n",
    "    new = ''\n",
    "\n",
    "    for i in n:\n",
    "\n",
    "        if i.isupper():\n",
    "\n",
    "            new+=i.lower()\n",
    "\n",
    "        elif i.islower():\n",
    "\n",
    "            new+= i.upper()\n",
    "\n",
    "    return new\n",
    "\n",
    "print(toggle('hAnIyA'))"
   ]
  },
  {
   "cell_type": "code",
   "execution_count": 16,
   "metadata": {},
   "outputs": [
    {
     "name": "stdout",
     "output_type": "stream",
     "text": [
      "3\n"
     ]
    }
   ],
   "source": [
    "def countvows(n):\n",
    "\n",
    "    vows = 'AIOUEaioue'\n",
    "    count = 0\n",
    "\n",
    "    for i in n:\n",
    "\n",
    "        if i in vows:\n",
    "\n",
    "            count+=1\n",
    "        \n",
    "    return count\n",
    "\n",
    "print(countvows('ajeetbbb'))\n",
    "            "
   ]
  },
  {
   "cell_type": "code",
   "execution_count": 18,
   "metadata": {},
   "outputs": [
    {
     "name": "stdout",
     "output_type": "stream",
     "text": [
      "Hny\n"
     ]
    }
   ],
   "source": [
    "def removevows(n):\n",
    "\n",
    "    vows = 'AIOUEaioue'\n",
    "    new = ''\n",
    "\n",
    "    for i in n:\n",
    "\n",
    "        if i not in vows:\n",
    "\n",
    "            new+=i\n",
    "            \n",
    "    return new\n",
    "\n",
    "print(removevows('Haniya'))\n"
   ]
  },
  {
   "cell_type": "code",
   "execution_count": 26,
   "metadata": {},
   "outputs": [
    {
     "name": "stdout",
     "output_type": "stream",
     "text": [
      "True\n",
      "True\n"
     ]
    }
   ],
   "source": [
    "def pali(n):\n",
    "\n",
    "    rev = ''\n",
    "\n",
    "    for i in n:\n",
    "\n",
    "        rev = i + rev\n",
    "\n",
    "    if rev == n:\n",
    "\n",
    "        return True\n",
    "    \n",
    "print(pali('malayalam'))\n",
    "\n",
    "\n",
    "def palin(n):\n",
    "\n",
    "    l = 0\n",
    "    r = len(n)-1\n",
    "\n",
    "    while l != r:\n",
    "\n",
    "        if n[l] == n[r]:\n",
    "\n",
    "            l+=1\n",
    "            r-=1\n",
    "\n",
    "        else:\n",
    "            \n",
    "            return False\n",
    "    \n",
    "    return True\n",
    "\n",
    "print(palin('malayalam'))\n"
   ]
  },
  {
   "cell_type": "code",
   "execution_count": 28,
   "metadata": {},
   "outputs": [
    {
     "name": "stdout",
     "output_type": "stream",
     "text": [
      "ayinah\n"
     ]
    }
   ],
   "source": [
    "def reverse(n):\n",
    "    \n",
    "    rev = ''\n",
    "\n",
    "    for i in n:\n",
    "\n",
    "        rev = i+rev\n",
    "\n",
    "    return rev\n",
    "\n",
    "print(reverse('haniya'))"
   ]
  },
  {
   "cell_type": "code",
   "execution_count": 29,
   "metadata": {},
   "outputs": [
    {
     "name": "stdout",
     "output_type": "stream",
     "text": [
      "haniyA\n"
     ]
    }
   ],
   "source": [
    "def removeall(n):\n",
    "\n",
    "    new = ''\n",
    "\n",
    "    for i in n:\n",
    "\n",
    "        if i.isalpha():\n",
    "\n",
    "            new+=i\n",
    "    \n",
    "    return new\n",
    "\n",
    "print(removeall('ha123ni$@yA'))"
   ]
  },
  {
   "cell_type": "code",
   "execution_count": 30,
   "metadata": {},
   "outputs": [
    {
     "name": "stdout",
     "output_type": "stream",
     "text": [
      "ajeet\n"
     ]
    }
   ],
   "source": [
    "def removespace(n):\n",
    "\n",
    "    new = ''\n",
    "\n",
    "    for i in n:\n",
    "\n",
    "        if i != ' ':\n",
    "\n",
    "            new+=i\n",
    "\n",
    "    return new\n",
    "\n",
    "print(removespace('aj e  e   t'))"
   ]
  },
  {
   "cell_type": "code",
   "execution_count": 31,
   "metadata": {},
   "outputs": [
    {
     "name": "stdout",
     "output_type": "stream",
     "text": [
      "a+b-d-e+c*d\n"
     ]
    }
   ],
   "source": [
    "def removebra(n):\n",
    "\n",
    "    bras = '{[()]}'\n",
    "\n",
    "    new = ''\n",
    "\n",
    "    for i in n:\n",
    "\n",
    "        if i not in bras:\n",
    "\n",
    "            new+=i\n",
    "\n",
    "    return new\n",
    "\n",
    "print(removebra('(a+b)-[d-e]+{c*d}'))"
   ]
  },
  {
   "cell_type": "code",
   "execution_count": 33,
   "metadata": {},
   "outputs": [
    {
     "name": "stdout",
     "output_type": "stream",
     "text": [
      "12\n"
     ]
    }
   ],
   "source": [
    "def countsum(n):\n",
    "\n",
    "    count = 0\n",
    "\n",
    "    for i in n:\n",
    "\n",
    "        if not i.isalpha():\n",
    "\n",
    "            count+=int(i)\n",
    "\n",
    "    return count\n",
    "\n",
    "print(countsum('h12n7iy2a'))"
   ]
  },
  {
   "cell_type": "code",
   "execution_count": 46,
   "metadata": {},
   "outputs": [
    {
     "name": "stdout",
     "output_type": "stream",
     "text": [
      "I LovE BabY\n"
     ]
    }
   ],
   "source": [
    "def capfandl(n):\n",
    "\n",
    "    words = n.split()\n",
    "   \n",
    "    new = [word[0].upper()+ word[1:-1]+word[-1].upper() if len(word)>1 else word.upper() for word in words]\n",
    "\n",
    "    return ' '.join(new)\n",
    "\n",
    "print(capfandl('i love baby'))\n"
   ]
  },
  {
   "cell_type": "code",
   "execution_count": 48,
   "metadata": {},
   "outputs": [
    {
     "name": "stdout",
     "output_type": "stream",
     "text": [
      "{'h': 1, 'a': 2, 'n': 1, 'i': 1, 'y': 1}\n"
     ]
    }
   ],
   "source": [
    "def freq(n):\n",
    "\n",
    "    memo = {}\n",
    "\n",
    "    for i in n:\n",
    "\n",
    "        memo[i] = memo.get(i,0) + 1\n",
    "\n",
    "    return memo\n",
    "\n",
    "print(freq('haniya'))"
   ]
  },
  {
   "cell_type": "code",
   "execution_count": 4,
   "metadata": {},
   "outputs": [
    {
     "name": "stdout",
     "output_type": "stream",
     "text": [
      "['a', 'j', 't']\n"
     ]
    }
   ],
   "source": [
    "def findnonrep(n):\n",
    "\n",
    "    memo = {}\n",
    "\n",
    "    new = []\n",
    "\n",
    "    for i in n:\n",
    "\n",
    "        memo[i] = memo.get(i, 0) + 1\n",
    "\n",
    "    \n",
    "    for i in memo:\n",
    "\n",
    "        if memo[i] == 1:\n",
    "\n",
    "            new.append(i)\n",
    "    \n",
    "    return new\n",
    "\n",
    "print(findnonrep('ajeet'))"
   ]
  },
  {
   "cell_type": "code",
   "execution_count": 52,
   "metadata": {},
   "outputs": [
    {
     "name": "stdout",
     "output_type": "stream",
     "text": [
      "True\n"
     ]
    }
   ],
   "source": [
    "def anangram(n,m):\n",
    "\n",
    "    memo1 = {}\n",
    "    memo2 = {}\n",
    "\n",
    "    for i in n:\n",
    "\n",
    "        memo1[i] = memo1.get(i, 0) + 1\n",
    "\n",
    "    for i in m:\n",
    "\n",
    "        memo2[i] = memo2.get(i, 0) + 1\n",
    "    \n",
    "    if memo1 == memo2:\n",
    "\n",
    "        return True\n",
    "    else:\n",
    "        return False\n",
    "\n",
    "    \n",
    "print(anangram('car','arc'))\n"
   ]
  },
  {
   "cell_type": "code",
   "execution_count": 54,
   "metadata": {},
   "outputs": [
    {
     "name": "stdout",
     "output_type": "stream",
     "text": [
      "honguin\n"
     ]
    }
   ],
   "source": [
    "def subr(s,sub1,sub2):\n",
    "\n",
    "    return s.replace(sub1, sub2)\n",
    "\n",
    "print(subr('honey', 'ey', 'guin'))"
   ]
  },
  {
   "cell_type": "code",
   "execution_count": 57,
   "metadata": {},
   "outputs": [
    {
     "name": "stdout",
     "output_type": "stream",
     "text": [
      "120\n"
     ]
    }
   ],
   "source": [
    "def fact(n):\n",
    "\n",
    "    fact = 1\n",
    "\n",
    "    for i in range(1,n+1):\n",
    "\n",
    "        fact = fact*i\n",
    "    \n",
    "    return fact\n",
    "\n",
    "print(fact(5))\n"
   ]
  },
  {
   "cell_type": "code",
   "execution_count": 67,
   "metadata": {},
   "outputs": [
    {
     "name": "stdout",
     "output_type": "stream",
     "text": [
      "120\n"
     ]
    }
   ],
   "source": [
    "n = 5\n",
    "i = 1\n",
    "fact = 1\n",
    "\n",
    "while i!=n+1:\n",
    "\n",
    "    fact =fact*i\n",
    "    i = i+1\n",
    "\n",
    "print(fact)"
   ]
  },
  {
   "cell_type": "code",
   "execution_count": 68,
   "metadata": {},
   "outputs": [
    {
     "name": "stdout",
     "output_type": "stream",
     "text": [
      "24\n"
     ]
    }
   ],
   "source": [
    "def factr(n,i=1):\n",
    "\n",
    "    if i >= n:\n",
    "\n",
    "        return n\n",
    "\n",
    "    return i*factr(n, i+1)\n",
    "  \n",
    "print(factr(4))    "
   ]
  },
  {
   "cell_type": "code",
   "execution_count": 69,
   "metadata": {},
   "outputs": [
    {
     "name": "stdout",
     "output_type": "stream",
     "text": [
      "8\n"
     ]
    }
   ],
   "source": [
    "def po(n,m):\n",
    "\n",
    "    if m ==0:\n",
    "\n",
    "        return 1\n",
    "\n",
    "    if m==1:\n",
    "\n",
    "        return n\n",
    "    \n",
    "    return n*pow(n,m-1)\n",
    "\n",
    "print(po(2,3))  "
   ]
  },
  {
   "cell_type": "code",
   "execution_count": 72,
   "metadata": {},
   "outputs": [
    {
     "name": "stdout",
     "output_type": "stream",
     "text": [
      "False\n"
     ]
    }
   ],
   "source": [
    "from math import sqrt\n",
    "\n",
    "def prime(n,i=2):\n",
    "\n",
    "    if i > int(sqrt(n)+1):\n",
    "\n",
    "        return True\n",
    "\n",
    "    if n%i==0:\n",
    "\n",
    "        return False\n",
    "\n",
    "    return prime(n,i+1)\n",
    "\n",
    "print(prime(10))"
   ]
  },
  {
   "cell_type": "code",
   "execution_count": 78,
   "metadata": {},
   "outputs": [
    {
     "name": "stdout",
     "output_type": "stream",
     "text": [
      "110\n"
     ]
    }
   ],
   "source": [
    "def larget(n,i=0, highest=-10e5):\n",
    "\n",
    "    if len(n) == i:\n",
    "\n",
    "        return highest\n",
    "\n",
    "    if n[i] > highest:\n",
    "\n",
    "        highest = n[i]\n",
    "\n",
    "        return(larget(n, i+1,highest))\n",
    "    \n",
    "    else:\n",
    "        return(larget(n, i+1,highest))\n",
    "\n",
    "print(larget([91,76,110,40]))   "
   ]
  },
  {
   "cell_type": "code",
   "execution_count": 1,
   "metadata": {},
   "outputs": [
    {
     "name": "stdout",
     "output_type": "stream",
     "text": [
      "120\n"
     ]
    }
   ],
   "source": [
    "def largest(n):\n",
    "\n",
    "    highest = -10e5\n",
    "\n",
    "    for i in n:\n",
    "\n",
    "        if i > highest:\n",
    "\n",
    "            highest = i\n",
    "    return highest\n",
    "\n",
    "print(largest([23,1,77,120]))"
   ]
  },
  {
   "cell_type": "code",
   "execution_count": 2,
   "metadata": {},
   "outputs": [
    {
     "name": "stdout",
     "output_type": "stream",
     "text": [
      "7\n"
     ]
    }
   ],
   "source": [
    "def smallest(n):\n",
    "\n",
    "    lowest = 10e5\n",
    "\n",
    "    for i in n:\n",
    "\n",
    "        if i<lowest:\n",
    "\n",
    "            lowest = i\n",
    "    \n",
    "    return lowest\n",
    "\n",
    "print(smallest([21,55,23,7,26]))"
   ]
  },
  {
   "cell_type": "code",
   "execution_count": 3,
   "metadata": {},
   "outputs": [
    {
     "name": "stdout",
     "output_type": "stream",
     "text": [
      "(1, 123)\n"
     ]
    }
   ],
   "source": [
    "def smallandhigh(n):\n",
    "\n",
    "    small = n[0]\n",
    "    high = n[0]\n",
    "\n",
    "    for i in n:\n",
    "\n",
    "        if i > high:\n",
    "\n",
    "            high = i\n",
    "\n",
    "        elif i < small:\n",
    "\n",
    "            small = i\n",
    "\n",
    "    return small, high\n",
    "\n",
    "print(smallandhigh([1,55,123,78,90]))"
   ]
  },
  {
   "cell_type": "code",
   "execution_count": 4,
   "metadata": {},
   "outputs": [
    {
     "name": "stdout",
     "output_type": "stream",
     "text": [
      "10\n"
     ]
    }
   ],
   "source": [
    "def sumofn(n):\n",
    "\n",
    "    sum = 0\n",
    "\n",
    "    for i in n:\n",
    "\n",
    "        sum+=i\n",
    "\n",
    "    return sum\n",
    "\n",
    "print(sumofn([1,2,3,4]))"
   ]
  },
  {
   "cell_type": "code",
   "execution_count": 6,
   "metadata": {},
   "outputs": [
    {
     "name": "stdout",
     "output_type": "stream",
     "text": [
      "[6, 5, 4, 3, 2, 1]\n"
     ]
    }
   ],
   "source": [
    "def reverse(n):\n",
    "\n",
    "    l = 0\n",
    "    r = len(n)-1\n",
    "\n",
    "    while l<r:\n",
    "          \n",
    "        n[l],n[r] = n[r],n[l]\n",
    "\n",
    "        l=l+1\n",
    "        r=r-1\n",
    "    \n",
    "    return n\n",
    "\n",
    "print(reverse([1,2,3,4,5,6]))\n"
   ]
  },
  {
   "cell_type": "code",
   "execution_count": 11,
   "metadata": {},
   "outputs": [
    {
     "name": "stdout",
     "output_type": "stream",
     "text": [
      "[1, 5, 6, 100, 99, 11, 3]\n"
     ]
    }
   ],
   "source": [
    "def halfsort(n):\n",
    "\n",
    "    l = len(n)\n",
    "\n",
    "    mid = l//2\n",
    "\n",
    "    first = sorted(n[:mid])\n",
    "    second = sorted(n[mid:], reverse=True)\n",
    "\n",
    "    n[:mid] = first\n",
    "    n[mid:] = second\n",
    "\n",
    "    return n\n",
    "\n",
    "print(halfsort([1,5,6,3,99,11,100]))"
   ]
  },
  {
   "cell_type": "code",
   "execution_count": 1,
   "metadata": {},
   "outputs": [
    {
     "name": "stdout",
     "output_type": "stream",
     "text": [
      "{1: 1, 2: 2, 3: 1, 4: 1, 5: 1, 7: 3, 0: 1}\n"
     ]
    }
   ],
   "source": [
    "def freq(n):\n",
    "\n",
    "    memo = {}\n",
    "\n",
    "    for i in n:\n",
    "\n",
    "        if i in memo:\n",
    "\n",
    "            memo[i]+=1\n",
    "        else:\n",
    "            memo[i]=1\n",
    "\n",
    "    return memo\n",
    "\n",
    "print(freq([1,2,3,2,4,5,7,7,7,0]))"
   ]
  },
  {
   "cell_type": "code",
   "execution_count": 2,
   "metadata": {},
   "outputs": [
    {
     "name": "stdout",
     "output_type": "stream",
     "text": [
      "6\n"
     ]
    }
   ],
   "source": [
    "def distinct(n):\n",
    "\n",
    "    memo = {}\n",
    "\n",
    "    for i in n:\n",
    "\n",
    "        if i in memo:\n",
    "\n",
    "            memo[i]+=1\n",
    "        else:\n",
    "            memo[i]=1\n",
    "\n",
    "    return len(memo)\n",
    "\n",
    "print(distinct([1,2,3,4,4,4,6,2,9,9]))"
   ]
  },
  {
   "cell_type": "code",
   "execution_count": 5,
   "metadata": {},
   "outputs": [
    {
     "name": "stdout",
     "output_type": "stream",
     "text": [
      "[2, 4, 9]\n"
     ]
    }
   ],
   "source": [
    "def repeating(n):\n",
    "\n",
    "    memo = {}\n",
    "    repeating = []\n",
    "\n",
    "    for i in n:\n",
    "\n",
    "        if i in memo:\n",
    "\n",
    "            memo[i]+=1\n",
    "        else:\n",
    "            memo[i]=1\n",
    "\n",
    "    for i in memo:\n",
    "\n",
    "        if not memo[i] == 1:\n",
    "\n",
    "            repeating.append(i)\n",
    "\n",
    "    return repeating\n",
    "\n",
    "\n",
    "print(repeating([1,2,3,4,4,4,6,2,9,9]))"
   ]
  },
  {
   "cell_type": "code",
   "execution_count": 6,
   "metadata": {},
   "outputs": [
    {
     "name": "stdout",
     "output_type": "stream",
     "text": [
      "[1, 3, 6]\n"
     ]
    }
   ],
   "source": [
    "def Nonrepeating(n):\n",
    "\n",
    "    memo = {}\n",
    "    notrepeating = []\n",
    "\n",
    "    for i in n:\n",
    "\n",
    "        if i in memo:\n",
    "\n",
    "            memo[i]+=1\n",
    "        else:\n",
    "            memo[i]=1\n",
    "\n",
    "    for i in memo:\n",
    "\n",
    "        if memo[i] == 1:\n",
    "\n",
    "            notrepeating.append(i)\n",
    "\n",
    "    return notrepeating\n",
    "\n",
    "\n",
    "print(Nonrepeating([1,2,3,4,4,4,6,2,9,9]))"
   ]
  },
  {
   "cell_type": "code",
   "execution_count": 7,
   "metadata": {},
   "outputs": [
    {
     "data": {
      "text/plain": [
       "[1, 2, 3, 4, 6, 7, 8]"
      ]
     },
     "execution_count": 7,
     "metadata": {},
     "output_type": "execute_result"
    }
   ],
   "source": [
    "def removedupes(n):\n",
    "\n",
    "    seen = set()\n",
    "    result = []\n",
    "\n",
    "    for i in n:\n",
    "\n",
    "        if i not in seen:\n",
    "\n",
    "            seen.add(i)\n",
    "\n",
    "            result.append(i)\n",
    "\n",
    "    return result\n",
    "\n",
    "removedupes([1,2,2,2,3,4,4,6,7,8,8])"
   ]
  },
  {
   "cell_type": "code",
   "execution_count": 10,
   "metadata": {},
   "outputs": [
    {
     "name": "stdout",
     "output_type": "stream",
     "text": [
      "149\n"
     ]
    }
   ],
   "source": [
    "def minscalerprod(a,b):\n",
    "\n",
    "    a = sorted(a)\n",
    "    b = sorted(b, reverse=True)\n",
    "\n",
    "    result = sum(a[i]*b[i] for i in range(len(a)))\n",
    "\n",
    "    return result\n",
    "\n",
    "print(minscalerprod([1,2,6,3,7],[10,7,45,3,7]))"
   ]
  },
  {
   "cell_type": "code",
   "execution_count": 11,
   "metadata": {},
   "outputs": [
    {
     "name": "stdout",
     "output_type": "stream",
     "text": [
      "413\n"
     ]
    }
   ],
   "source": [
    "def maxprod(a,b):\n",
    "\n",
    "    a = sorted(a)\n",
    "    b = sorted(b)\n",
    "\n",
    "    result = sum(a[i]*b[i] for i in range(len(a)))\n",
    "\n",
    "    return result\n",
    "\n",
    "print(maxprod([1,2,6,3,7],[10,7,45,3,7]))"
   ]
  },
  {
   "cell_type": "code",
   "execution_count": 14,
   "metadata": {},
   "outputs": [
    {
     "name": "stdout",
     "output_type": "stream",
     "text": [
      "(3, 4)\n"
     ]
    }
   ],
   "source": [
    "def countoddeven(n):\n",
    "\n",
    "    evecount = 0\n",
    "    oddcount = 0\n",
    "\n",
    "    for i in n:\n",
    "\n",
    "        if i%2==0:\n",
    "\n",
    "            evecount+=1\n",
    "\n",
    "        else:\n",
    "            oddcount+=1\n",
    "\n",
    "    return evecount,oddcount\n",
    "\n",
    "print(countoddeven([1,2,3,4,5,6,7]))"
   ]
  },
  {
   "cell_type": "code",
   "execution_count": 1,
   "metadata": {},
   "outputs": [
    {
     "name": "stdout",
     "output_type": "stream",
     "text": [
      "mmmalayalammm\n"
     ]
    }
   ],
   "source": [
    "def longestpal(n):\n",
    "\n",
    "    pali = None\n",
    "\n",
    "    for i in n:\n",
    "\n",
    "        s = str(i)\n",
    "\n",
    "        if s == s[::-1]:\n",
    "\n",
    "            if len(s) > len(str(pali)):\n",
    "\n",
    "                pali = s\n",
    "\n",
    "    return pali\n",
    "\n",
    "print(longestpal(['oho','mmmalayalammm','ajeet',8888888888]))"
   ]
  },
  {
   "cell_type": "code",
   "execution_count": 25,
   "metadata": {},
   "outputs": [
    {
     "name": "stdout",
     "output_type": "stream",
     "text": [
      "{(1, 2), (4, 1)}\n"
     ]
    }
   ],
   "source": [
    "def sympairs(n):\n",
    "\n",
    "    result = set()\n",
    "\n",
    "    for (x,y) in n:\n",
    "\n",
    "        if [y,x] in n:\n",
    "\n",
    "            if (x,y) not in result and (y,x) not in result:\n",
    "            \n",
    "                result.add((x,y))\n",
    "        \n",
    "    return result\n",
    "\n",
    "print(sympairs([[1,2],[2,1],[1,3],[4,1],[1,4]]))\n"
   ]
  },
  {
   "cell_type": "code",
   "execution_count": 36,
   "metadata": {},
   "outputs": [
    {
     "name": "stdout",
     "output_type": "stream",
     "text": [
      "7\n"
     ]
    }
   ],
   "source": [
    "def kadane(n):\n",
    "\n",
    "    sum = n[0]\n",
    "    maxsofar = n[0]\n",
    "\n",
    "    for i in n:\n",
    "\n",
    "        sum = sum+i\n",
    "\n",
    "        if sum < 0:\n",
    "            sum = 0\n",
    "\n",
    "        maxsofar = max(sum, maxsofar)\n",
    "\n",
    "    return maxsofar\n",
    "\n",
    "print(kadane([-2, -3, 4, -1, -2, 1, 5, -3]))"
   ]
  },
  {
   "cell_type": "code",
   "execution_count": 44,
   "metadata": {},
   "outputs": [
    {
     "name": "stdout",
     "output_type": "stream",
     "text": [
      "112\n"
     ]
    }
   ],
   "source": [
    "def kadaneprod(n):\n",
    "\n",
    "    mini = n[0]\n",
    "    maxi = n[0]\n",
    "    maxsofar = n[0]\n",
    "\n",
    "    for i in n:\n",
    "\n",
    "        if i < 0:\n",
    "            maxi,mini = mini,maxi\n",
    "\n",
    "        maxi = max(i,i*maxi)\n",
    "        mini = min(i,i*mini)\n",
    "\n",
    "        maxsofar = max(maxsofar, maxi)\n",
    "\n",
    "    return maxsofar\n",
    "\n",
    "print(kadaneprod([ 1, -2, -3, 0, 7, -8, -2 ]))"
   ]
  },
  {
   "cell_type": "code",
   "execution_count": 2,
   "metadata": {},
   "outputs": [
    {
     "name": "stdout",
     "output_type": "stream",
     "text": [
      "False\n"
     ]
    }
   ],
   "source": [
    "def disjoint(n,m):\n",
    "\n",
    "    n = set(n)\n",
    "    m = set(m)\n",
    "\n",
    "    if n.intersection(m):\n",
    "\n",
    "        return False\n",
    "    else:\n",
    "        return True\n",
    "\n",
    "print(disjoint([1,2,3,4],[4,5,6,7]))    "
   ]
  },
  {
   "cell_type": "code",
   "execution_count": null,
   "metadata": {},
   "outputs": [],
   "source": [
    "def subset(n,m):\n",
    "\n",
    "    n = set(n)\n",
    "    m = set(m)\n",
    "\n",
    "    return n.issubset(m)\n",
    "\n",
    "print(subset([1,2,3,4],[4,5,6,7]))"
   ]
  },
  {
   "cell_type": "code",
   "execution_count": 10,
   "metadata": {},
   "outputs": [
    {
     "name": "stdout",
     "output_type": "stream",
     "text": [
      "True\n"
     ]
    }
   ],
   "source": [
    "def samearr(n):\n",
    "\n",
    "    for i in range(len(n)):\n",
    "\n",
    "        if n[i]%2==0:\n",
    "\n",
    "            n[i] = n[i]//2\n",
    "    \n",
    "    for i in range(len(n)):\n",
    "\n",
    "        if n[i]%3==0:\n",
    "\n",
    "            n[i] = n[i]//3\n",
    "\n",
    "    for i in range(len(n)):\n",
    "\n",
    "        if n[0] != n[i]:\n",
    "\n",
    "            return False\n",
    "    \n",
    "    return True\n",
    "        \n",
    "print(samearr([50, 75, 150]))"
   ]
  },
  {
   "cell_type": "code",
   "execution_count": 16,
   "metadata": {},
   "outputs": [
    {
     "name": "stdout",
     "output_type": "stream",
     "text": [
      "4\n"
     ]
    }
   ],
   "source": [
    "def minSumabsdiff(n):\n",
    "\n",
    "    summ = 0\n",
    "    n = sorted(n)\n",
    "\n",
    "    for i in range(len(n)-1):\n",
    "\n",
    "        summ +=  abs(n[i]-n[i+1])\n",
    "\n",
    "    return summ\n",
    "\n",
    "print(minSumabsdiff([4,1,5]))"
   ]
  },
  {
   "cell_type": "code",
   "execution_count": 21,
   "metadata": {},
   "outputs": [
    {
     "name": "stdout",
     "output_type": "stream",
     "text": [
      "[2, 2, 1, 1, 8, 8, 3, 5, 6, 7, 9]\n"
     ]
    }
   ],
   "source": [
    "def sortXbyYorder(n,m):\n",
    "\n",
    "    result = []\n",
    "\n",
    "    memo = {}\n",
    "\n",
    "    for i in n:\n",
    "\n",
    "        memo[i] = memo.get(i,0)+1\n",
    "\n",
    "    for i in m:\n",
    "\n",
    "        val = memo.get(i)\n",
    "\n",
    "        result.extend([i]*val)\n",
    "\n",
    "        del memo[i]\n",
    "\n",
    "    rest = sorted(list(memo.keys()))\n",
    "\n",
    "    return result+rest\n",
    "\n",
    "print(sortXbyYorder([2, 1, 2, 5, 7, 1, 9, 3, 6, 8, 8],[2, 1, 8, 3]))"
   ]
  },
  {
   "cell_type": "code",
   "execution_count": 34,
   "metadata": {},
   "outputs": [
    {
     "name": "stdout",
     "output_type": "stream",
     "text": [
      "2\n"
     ]
    }
   ],
   "source": [
    "def equi(n):\n",
    "\n",
    "    totalsum = sum(n)\n",
    "    leftsum = 0\n",
    "\n",
    "    for i,ele in enumerate(n):\n",
    "\n",
    "        totalsum = totalsum - ele\n",
    "\n",
    "        if leftsum == totalsum:\n",
    "\n",
    "            return i\n",
    "        \n",
    "        leftsum+=ele\n",
    "\n",
    "    return -1\n",
    "\n",
    "print(equi([1, 3, 5, 2, 2]))"
   ]
  },
  {
   "cell_type": "code",
   "execution_count": 39,
   "metadata": {},
   "outputs": [
    {
     "name": "stdout",
     "output_type": "stream",
     "text": [
      "[4, 1, 2, 3]\n"
     ]
    }
   ],
   "source": [
    "def replacebyrank(n):\n",
    "\n",
    "    memo = {}    \n",
    "\n",
    "    new = sorted(n)\n",
    "\n",
    "    for i, ele in enumerate(n):\n",
    "\n",
    "        memo[ele] = i\n",
    "\n",
    "    for i, ele in enumerate(new):\n",
    "\n",
    "        n[memo[ele]] = i+1\n",
    "\n",
    "    return n\n",
    "\n",
    "print(replacebyrank([40,10,20,30]))"
   ]
  },
  {
   "cell_type": "code",
   "execution_count": 8,
   "metadata": {},
   "outputs": [
    {
     "name": "stdout",
     "output_type": "stream",
     "text": [
      "[3, 4, 1, 2]\n"
     ]
    }
   ],
   "source": [
    "def reverse(n,s,e):\n",
    "\n",
    "    while s <= e:\n",
    "\n",
    "        n[s], n[e] = n[e] , n[s]\n",
    "\n",
    "        s+=1\n",
    "        e-=1\n",
    "\n",
    "def rotate(n,d):\n",
    "\n",
    "    l = len(n)\n",
    "    d = d%l\n",
    "\n",
    "    reverse(n,0,d-1)\n",
    "    reverse(n,d,l-1)\n",
    "    reverse(n,0,l-1)\n",
    "\n",
    "    return n\n",
    "\n",
    "print(rotate([1,2,3,4],2))"
   ]
  },
  {
   "cell_type": "code",
   "execution_count": 10,
   "metadata": {},
   "outputs": [
    {
     "name": "stdout",
     "output_type": "stream",
     "text": [
      "[2, 3, 4, 1]\n"
     ]
    }
   ],
   "source": [
    "def reverse(n,s,e):\n",
    "\n",
    "    while s <= e:\n",
    "\n",
    "        n[s], n[e] = n[e] , n[s]\n",
    "\n",
    "        s+=1\n",
    "        e-=1\n",
    "\n",
    "def rotateR(n,d):\n",
    "\n",
    "    l = len(n)\n",
    "    d = d%l\n",
    "\n",
    "    reverse(n,l-d,l-1)\n",
    "    reverse(n,0,l-d-1)\n",
    "    reverse(n,0,l-1)\n",
    "\n",
    "    return n\n",
    "\n",
    "print(rotateR([1,2,3,4],3))"
   ]
  },
  {
   "cell_type": "code",
   "execution_count": 16,
   "metadata": {},
   "outputs": [
    {
     "name": "stdout",
     "output_type": "stream",
     "text": [
      "True\n",
      "False\n",
      "False\n",
      "True\n"
     ]
    }
   ],
   "source": [
    "def balancedpar(s):\n",
    "\n",
    "    stack = []\n",
    "\n",
    "    for i in s:\n",
    "\n",
    "        if i in '({[':\n",
    "\n",
    "            stack.append(i)\n",
    "\n",
    "        elif not stack:\n",
    "\n",
    "            return False\n",
    "\n",
    "        elif (i == ')' and stack[-1] != '(') or  (i == '}' and stack[-1] != '{') or  (i == ']' and stack[-1] != '[') : \n",
    "\n",
    "            return False\n",
    "\n",
    "        else:\n",
    "\n",
    "            stack.pop()\n",
    "\n",
    "    return False if stack else True            \n",
    "   \n",
    "print(balancedpar('{[()]}'))\n",
    "print(balancedpar('{['))\n",
    "print(balancedpar('{[}]'))\n",
    "print(balancedpar('{}[]()'))"
   ]
  },
  {
   "cell_type": "markdown",
   "metadata": {},
   "source": [
    "ADVANCE ARRAY"
   ]
  },
  {
   "cell_type": "code",
   "execution_count": 2,
   "metadata": {},
   "outputs": [
    {
     "name": "stdout",
     "output_type": "stream",
     "text": [
      "[0, 0, 1, 1, 2, 2]\n"
     ]
    }
   ],
   "source": [
    "def dutch(n):\n",
    "\n",
    "    l = 0\n",
    "    m = 0\n",
    "    r = len(n)-1\n",
    "\n",
    "    while m<= r:\n",
    "\n",
    "        if n[m] == 0:\n",
    "\n",
    "            n[m], n[l] = n[l], n[m]\n",
    "            l+=1\n",
    "            m+=1\n",
    "\n",
    "        elif n[m] == 1:\n",
    "\n",
    "            m+=1\n",
    "\n",
    "        else:\n",
    "            n[m], n[r] = n[r], n[m]\n",
    "\n",
    "            r-=1\n",
    "\n",
    "    return n\n",
    "\n",
    "print(dutch([2,1,0,1,0,2]))\n"
   ]
  },
  {
   "cell_type": "code",
   "execution_count": 5,
   "metadata": {},
   "outputs": [
    {
     "name": "stdout",
     "output_type": "stream",
     "text": [
      "[-1, -6, -5, -7, 3, 7, 2, 72, 99, 1]\n"
     ]
    }
   ],
   "source": [
    "def movenegs(n):\n",
    "\n",
    "    l=0\n",
    "    m=0\n",
    "    r=len(n)-1\n",
    "\n",
    "    while m<=r:\n",
    "\n",
    "        if n[m] < 0:\n",
    "\n",
    "            n[m], n[l] = n[l], n[m]\n",
    "\n",
    "            m+=1\n",
    "            l+=1\n",
    "        \n",
    "        else:\n",
    "\n",
    "            m+=1\n",
    "\n",
    "    return n\n",
    "\n",
    "print(movenegs([1,-1,2,-6,3,7,-5,72,99,-7]))"
   ]
  },
  {
   "cell_type": "code",
   "execution_count": 10,
   "metadata": {},
   "outputs": [
    {
     "name": "stdout",
     "output_type": "stream",
     "text": [
      "([1, 2, 3, 4, 5, 6, 7, 8], [4, 8])\n"
     ]
    }
   ],
   "source": [
    "def union_inter(n,m):\n",
    "\n",
    "    union = []\n",
    "    inter = []\n",
    "    i = 0\n",
    "    j = 0\n",
    "\n",
    "    while i < len(n) and j <len(m):\n",
    "\n",
    "        if n[i] < m[j]:\n",
    "\n",
    "            union.append(n[i])\n",
    "            i+=1\n",
    "\n",
    "        elif n[i] > m[j]:\n",
    "\n",
    "            union.append(m[j])\n",
    "            j+=1\n",
    "\n",
    "        else:\n",
    "\n",
    "            union.append(n[i])\n",
    "            inter.append(n[i])\n",
    "\n",
    "            i+=1\n",
    "            j+=1\n",
    "\n",
    "    while i < len(n):\n",
    "\n",
    "        union.append(n[i])\n",
    "        i+=1\n",
    "\n",
    "    while j< len(m):\n",
    "\n",
    "        union.append(m[j])\n",
    "        j+=1\n",
    "    \n",
    "    return union , inter\n",
    "\n",
    "print(union_inter([1,2,3,4,8],[4,5,6,7,8]))"
   ]
  },
  {
   "cell_type": "code",
   "execution_count": 12,
   "metadata": {},
   "outputs": [
    {
     "name": "stdout",
     "output_type": "stream",
     "text": [
      "7\n"
     ]
    }
   ],
   "source": [
    "def kadane(n):\n",
    "\n",
    "    sum = n[0]\n",
    "    maxsofar = n[0]\n",
    "\n",
    "    for i in n:\n",
    "\n",
    "        sum = sum+i\n",
    "\n",
    "        if sum < 0:\n",
    "\n",
    "            sum = 0\n",
    "\n",
    "        maxsofar = max(sum, maxsofar)\n",
    "\n",
    "    return maxsofar\n",
    "\n",
    "print(kadane([-2, -3, 4, -1, -2, 1, 5, -3]))"
   ]
  },
  {
   "cell_type": "code",
   "execution_count": 3,
   "metadata": {},
   "outputs": [
    {
     "name": "stdout",
     "output_type": "stream",
     "text": [
      "5\n"
     ]
    }
   ],
   "source": [
    "def stock(n):\n",
    "\n",
    "    min_price = float('inf')\n",
    "    maxpofit = 0\n",
    "\n",
    "    for i in n:\n",
    "\n",
    "        if i < min_price:\n",
    "\n",
    "            min_price = i\n",
    "        \n",
    "        elif i - min_price > maxpofit:\n",
    "\n",
    "            maxpofit = i - min_price\n",
    "\n",
    "    return maxpofit\n",
    "\n",
    "\n",
    "print(stock([7,1,5,3,6,4]))\n"
   ]
  },
  {
   "cell_type": "code",
   "execution_count": 9,
   "metadata": {},
   "outputs": [
    {
     "name": "stdout",
     "output_type": "stream",
     "text": [
      "10\n"
     ]
    }
   ],
   "source": [
    "def chocolate(arr,m):\n",
    "\n",
    "    arr.sort()\n",
    "    \n",
    "    n = len(arr)\n",
    "\n",
    "    min_diff = float('inf')\n",
    "\n",
    "    for i in range(n-m+1):\n",
    "\n",
    "        diff = arr[i+m-1] - arr[i]\n",
    "\n",
    "        min_diff = min(min_diff, diff)\n",
    "\n",
    "    return min_diff\n",
    "\n",
    "print(chocolate([12, 4, 7, 9, 2, 23, 25, 41,\n",
    "           30, 40, 28, 42, 30, 44, 48,\n",
    "           43, 50],7))\n"
   ]
  },
  {
   "cell_type": "code",
   "execution_count": 27,
   "metadata": {},
   "outputs": [
    {
     "name": "stdout",
     "output_type": "stream",
     "text": [
      "9\n"
     ]
    }
   ],
   "source": [
    "def trappingrain(n):\n",
    "    l, r = 0, len(n) - 1\n",
    "    leftmax, rightmax = n[l], n[r]\n",
    "    water = 0\n",
    "\n",
    "    while l < r:\n",
    "        if leftmax <= rightmax:\n",
    "            l += 1\n",
    "            leftmax = max(leftmax, n[l])\n",
    "            water += max(0, leftmax - n[l])\n",
    "        else:\n",
    "            r -= 1\n",
    "            rightmax = max(rightmax, n[r])\n",
    "            water += max(0, rightmax - n[r])\n",
    "\n",
    "    return water\n",
    "\n",
    "print(trappingrain([4, 2, 0, 3, 2, 5]))\n"
   ]
  },
  {
   "cell_type": "code",
   "execution_count": null,
   "metadata": {},
   "outputs": [],
   "source": [
    "def trappingrain(n):\n",
    "\n",
    "    l = 0\n",
    "    r = len(n)-1\n",
    "\n",
    "    leftmax = n[0]\n",
    "    rightmax = n[-1]\n",
    "\n",
    "    water = 0\n",
    "\n",
    "    while l < r:\n",
    "\n",
    "        if leftmax <= rightmax:\n",
    "\n",
    "            ref = leftmax\n",
    "\n",
    "            l+=1\n",
    "\n",
    "            while n[l] < ref:\n",
    "\n",
    "                water += ref-n[l]\n",
    "\n",
    "                l+=1\n",
    "\n",
    "            leftmax = n[l]\n",
    "\n",
    "        else:\n",
    "\n",
    "            ref = rightmax\n",
    "\n",
    "            r-=1\n",
    "\n",
    "            while n[r] < ref:\n",
    "\n",
    "                water+= ref - n[r]\n",
    "\n",
    "                r-=1\n",
    "\n",
    "            rightmax = n[r]\n",
    "\n",
    "    return water\n",
    "\n",
    "print(trappingrain([4,2,0,3,2,5]))"
   ]
  },
  {
   "cell_type": "code",
   "execution_count": 33,
   "metadata": {},
   "outputs": [
    {
     "name": "stdout",
     "output_type": "stream",
     "text": [
      "[4, 5]\n"
     ]
    }
   ],
   "source": [
    "def comin3(a,b,c):\n",
    "\n",
    "    result = []\n",
    "\n",
    "    i= j = k = 0\n",
    "\n",
    "    while i < len(a) and j < len(b) and k<len(c):\n",
    "\n",
    "        if a[i] == b[j] == c[k]:\n",
    "\n",
    "            result.append(a[i])\n",
    "            i+=1\n",
    "            j+=1\n",
    "            k+=1\n",
    "        elif a[i]<b[j]:\n",
    "\n",
    "            i+=1\n",
    "        elif b[j] < c[k]:\n",
    "\n",
    "            j+=1\n",
    "        else:\n",
    "            k+=1\n",
    "\n",
    "    return result\n",
    "\n",
    "a = [1,2,3,4,5]\n",
    "b = [4,5,6,7]\n",
    "c = [4,5,8,9,10]\n",
    "\n",
    "print(comin3(a,b,c))"
   ]
  },
  {
   "cell_type": "code",
   "execution_count": 39,
   "metadata": {},
   "outputs": [
    {
     "name": "stdout",
     "output_type": "stream",
     "text": [
      "4\n"
     ]
    }
   ],
   "source": [
    "def longestconssub(n):\n",
    "\n",
    "    myset = set(n)\n",
    "    count = 1\n",
    "\n",
    "    for i in myset:\n",
    "\n",
    "        if i-1 not in myset:\n",
    "\n",
    "            temp = 1\n",
    "\n",
    "            while i+1 in myset:\n",
    "\n",
    "                temp+=1\n",
    "\n",
    "                i+=1\n",
    "            \n",
    "            count = max(count,temp)\n",
    "\n",
    "    return count\n",
    "\n",
    "print(longestconssub([100, 4, 200, 1, 3, 2]))"
   ]
  },
  {
   "cell_type": "code",
   "execution_count": 43,
   "metadata": {},
   "outputs": [
    {
     "name": "stdout",
     "output_type": "stream",
     "text": [
      "[(6, 1), (5, 2), (4, 3)]\n"
     ]
    }
   ],
   "source": [
    "def all2sum(n,target):\n",
    "\n",
    "    n = set(n)\n",
    "    result = []\n",
    "\n",
    "    for i in n:\n",
    "\n",
    "        remain =  target - i\n",
    "\n",
    "        if remain in n:\n",
    "\n",
    "            if (remain,i) not in result and (i,remain) not in result:\n",
    "\n",
    "                result.append((remain,i))\n",
    "                \n",
    "    return result\n",
    "\n",
    "print(all2sum([5, 2, 3, 4, 1, 6, 7],7))"
   ]
  },
  {
   "cell_type": "code",
   "execution_count": 17,
   "metadata": {},
   "outputs": [
    {
     "name": "stdout",
     "output_type": "stream",
     "text": [
      "6\n"
     ]
    }
   ],
   "source": [
    "def max2prof(n):\n",
    "\n",
    "    firstbuy = float('-inf')\n",
    "    firstsell = 0\n",
    "    secondbuy = float('-inf')\n",
    "    secondsell = 0\n",
    "\n",
    "    for i in range(len(n)):\n",
    "\n",
    "        firstbuy = max(firstbuy, -n[i])\n",
    "\n",
    "        firstsell = max(firstsell, firstbuy+n[i])\n",
    "\n",
    "        secondbuy = max(secondbuy, firstsell -n[i])\n",
    "\n",
    "        secondsell = max(secondsell, secondbuy+n[i])\n",
    "\n",
    "    return secondsell\n",
    "\n",
    "print(max2prof([3,3,5,0,0,3,1,4]))"
   ]
  },
  {
   "cell_type": "code",
   "execution_count": 30,
   "metadata": {},
   "outputs": [
    {
     "name": "stdout",
     "output_type": "stream",
     "text": [
      "[1, 2, 3, 4, 5, 6]\n"
     ]
    }
   ],
   "source": [
    "def mergesorted(n,m,x,y):\n",
    "\n",
    "    i = x-1\n",
    "    j = y-1\n",
    "    k = x+y-1\n",
    "\n",
    "    while i >=0 and j >=0:\n",
    "\n",
    "        if n[i] > m[j]:\n",
    "\n",
    "            n[k] = n[i]\n",
    "\n",
    "            i-=1\n",
    "\n",
    "        else:\n",
    "\n",
    "            n[k] = m[j]\n",
    "\n",
    "            j-=1\n",
    "        \n",
    "        k-=1\n",
    "\n",
    "    while j>=0:\n",
    "\n",
    "        n[k] = m[j]\n",
    "\n",
    "        j-=1        \n",
    "        k-=1\n",
    "\n",
    "n = [1, 3, 5, 0, 0, 0]\n",
    "m = [2, 4, 6]\n",
    "x = 3\n",
    "y = 3\n",
    "\n",
    "mergesorted(n,m,x,y)\n",
    "print(n)"
   ]
  },
  {
   "cell_type": "code",
   "execution_count": 29,
   "metadata": {},
   "outputs": [
    {
     "name": "stdout",
     "output_type": "stream",
     "text": [
      "   1 \n",
      "  2 2 \n",
      " 3 3 3 \n",
      "4 4 4 4 \n",
      " 3 3 3 \n",
      "  2 2 \n",
      "   1 \n"
     ]
    }
   ],
   "source": [
    "def pattern(n):\n",
    "\n",
    "    for i in range(1, n+1):\n",
    "\n",
    "        print(' '*(n-i), end='')\n",
    "        print((str(i)+' ')*(i))\n",
    "\n",
    "    for i in range(n-1, 0, -1):\n",
    "\n",
    "        print(' '*(n-i), end='')\n",
    "        print((str(i)+' ')*(i))\n",
    "\n",
    "pattern(4)"
   ]
  },
  {
   "cell_type": "code",
   "execution_count": 6,
   "metadata": {},
   "outputs": [
    {
     "name": "stdout",
     "output_type": "stream",
     "text": [
      "Kth Largest element 4\n",
      "Kth Smallest element 3\n"
     ]
    }
   ],
   "source": [
    "import heapq\n",
    "\n",
    "class Solution:\n",
    "    def kth_Largest_MaxHeap(self, arr, k):\n",
    "        pq = []\n",
    "        n = len(arr)\n",
    "        for i in range(n):\n",
    "            heapq.heappush(pq, -arr[i])\n",
    "\n",
    "        f = k - 1\n",
    "\n",
    "        while f > 0:\n",
    "            heapq.heappop(pq)\n",
    "            f -= 1\n",
    "\n",
    "        print(\"Kth Largest element\", -pq[0])\n",
    "\n",
    "    def kth_Smallest_MinHeap(self, arr, k):\n",
    "        pq = []\n",
    "        n = len(arr)\n",
    "\n",
    "        for i in range(n):\n",
    "            heapq.heappush(pq, arr[i])\n",
    "\n",
    "        f = k - 1\n",
    "\n",
    "        while f > 0:\n",
    "            heapq.heappop(pq)\n",
    "            f -= 1\n",
    "\n",
    "        print(\"Kth Smallest element\", pq[0])\n",
    "\n",
    "if __name__ == \"__main__\":\n",
    "    arr = [1, 2, 6, 4, 5, 3]\n",
    "\n",
    "    obj = Solution()\n",
    "    obj.kth_Largest_MaxHeap(arr, 3)\n",
    "    obj.kth_Smallest_MinHeap(arr, 3)"
   ]
  },
  {
   "cell_type": "code",
   "execution_count": 13,
   "metadata": {},
   "outputs": [],
   "source": [
    "def kth_Largest_MaxHeap(arr, k):\n",
    "        # Max heap using negative values\n",
    "    pq = [-x for x in arr]\n",
    "    heapq.heapify(pq)  # Heapify the array (O(n))\n",
    "        \n",
    "        # Pop k-1 elements\n",
    "    for _ in range(k - 1):\n",
    "            heapq.heappop(pq)\n",
    "        \n",
    "    return -pq[0]  # Return the Kth largest (remove negative)\n",
    "\n",
    "\n",
    "def kth_Smallest_MinHeap(arr, k):\n",
    "        \n",
    "        # Min heap directly using heapq\n",
    "    pq = arr[:]\n",
    "    heapq.heapify(pq)  # Heapify the array (O(n))\n",
    "        \n",
    "        # Pop k-1 elements\n",
    "    for _ in range(k - 1):\n",
    "        heapq.heappop(pq)\n",
    "        \n",
    "    return pq[0]  # Return the Kth smallest"
   ]
  },
  {
   "cell_type": "code",
   "execution_count": 38,
   "metadata": {},
   "outputs": [
    {
     "name": "stdout",
     "output_type": "stream",
     "text": [
      "2 smallest 2\n",
      "2 highest 15\n",
      "[1, 2, 3, 5, 9, 8, 4, 15, 16]\n"
     ]
    }
   ],
   "source": [
    "def quicksort(n, low, high, kth):\n",
    "\n",
    "    if low > high:\n",
    "        return -1  \n",
    "   \n",
    "    index = partition(n, low, high)\n",
    "   \n",
    "    if index == kth:\n",
    "        return n[index]\n",
    "   \n",
    "    if index > kth:\n",
    "        return quicksort(n, low, index - 1, kth)\n",
    "       \n",
    "    return quicksort(n, index + 1, high, kth)\n",
    "\n",
    "def partition(n, low, high):\n",
    "    \n",
    "    p = low -1\n",
    "    q = low\n",
    "    pivot = high\n",
    "\n",
    "    while q < pivot:\n",
    "\n",
    "        if n[q] > n[pivot]:\n",
    "\n",
    "            q+=1\n",
    "        else:\n",
    "            p+=1\n",
    "            n[p], n[q] = n[q] , n[p]\n",
    "            q+=1\n",
    "    \n",
    "    n[pivot] , n[p+1] = n[p+1], n[pivot]\n",
    "\n",
    "    return p+1\n",
    "\n",
    "n = [4,5,1,2,9,8,16,3,15]\n",
    "low = 0\n",
    "high = len(n)-1\n",
    "kth = 2\n",
    "\n",
    "print(f'{kth} smallest', quicksort(n, low, high,kth-1))\n",
    "print(f'{kth} highest', quicksort(n, low, high,len(n)-kth))\n",
    "print(n)\n"
   ]
  },
  {
   "cell_type": "code",
   "execution_count": 4,
   "metadata": {},
   "outputs": [],
   "source": [
    "def findKthLargest(self, nums, k):\n",
    "       \n",
    "    heap = nums[:k]\n",
    "    heapq.heapify(heap)\n",
    "        \n",
    "        \n",
    "    for num in nums[k:]:\n",
    "        if num > heap[0]:  \n",
    "            heapq.heappushpop(heap, num)\n",
    "        \n",
    "        \n",
    "    return heap[0]\n"
   ]
  },
  {
   "cell_type": "code",
   "execution_count": 3,
   "metadata": {},
   "outputs": [
    {
     "data": {
      "text/plain": [
       "5"
      ]
     },
     "execution_count": 3,
     "metadata": {},
     "output_type": "execute_result"
    }
   ],
   "source": [
    "def heights(arr,k):\n",
    "\n",
    "    arr.sort()\n",
    "\n",
    "    smallest = arr[0]\n",
    "\n",
    "    highest = arr[-1]\n",
    "\n",
    "    mindiff = highest-smallest\n",
    "\n",
    "    for i in range(len(arr)):\n",
    "\n",
    "        if arr[i]-k < 0:\n",
    "\n",
    "            continue\n",
    "\n",
    "        newsmall = min(smallest+k, arr[i]-k)\n",
    "\n",
    "        newhigh = max(highest-k, arr[i-1]+k)\n",
    "\n",
    "        mindiff = min(mindiff, newhigh-newsmall)\n",
    "\n",
    "    return mindiff\n",
    "\n",
    "heights([4,6,10,12,15],3)"
   ]
  },
  {
   "cell_type": "code",
   "execution_count": 71,
   "metadata": {},
   "outputs": [
    {
     "data": {
      "text/plain": [
       "1"
      ]
     },
     "execution_count": 71,
     "metadata": {},
     "output_type": "execute_result"
    }
   ],
   "source": [
    "def jumpgame(n):\n",
    "\n",
    "    jumps = 0\n",
    "    i=0\n",
    "\n",
    "    if len(n) <=1:\n",
    "\n",
    "        return \n",
    "\n",
    "    while i < len(n):\n",
    "\n",
    "        jumps+=1\n",
    "\n",
    "        start = i+1\n",
    "        end = n[i]+i+1\n",
    "\n",
    "        if start > len(n)-1:\n",
    "\n",
    "            break\n",
    "\n",
    "        if end >= len(n):\n",
    "\n",
    "            break\n",
    "\n",
    "        maxx = 0\n",
    "        idx = start\n",
    "\n",
    "        while start < end:\n",
    "\n",
    "            if n[start] > maxx:\n",
    "\n",
    "                maxx = n[start]\n",
    "\n",
    "                idx = start\n",
    "\n",
    "            start+=1\n",
    "\n",
    "        i = idx    \n",
    "    return jumps\n",
    "\n"
   ]
  },
  {
   "cell_type": "code",
   "execution_count": 5,
   "metadata": {},
   "outputs": [
    {
     "data": {
      "text/plain": [
       "2"
      ]
     },
     "execution_count": 5,
     "metadata": {},
     "output_type": "execute_result"
    }
   ],
   "source": [
    "def dupesNplus1(n):\n",
    "\n",
    "    slow = n[0]\n",
    "    fast = n[0]\n",
    "\n",
    "    while True:\n",
    "\n",
    "        slow = n[slow]\n",
    "        fast = n[n[fast]]\n",
    "\n",
    "        if slow == fast:\n",
    "\n",
    "            break\n",
    "\n",
    "    fast = n[0]\n",
    "\n",
    "    while slow!= fast:\n",
    "\n",
    "        slow = n[slow]\n",
    "        fast = n[fast]\n",
    "\n",
    "    return fast\n",
    "\n",
    "dupesNplus1([1,2,2,3,4,8])"
   ]
  },
  {
   "cell_type": "markdown",
   "metadata": {},
   "source": [
    "MATRIX"
   ]
  },
  {
   "cell_type": "code",
   "execution_count": 2,
   "metadata": {},
   "outputs": [
    {
     "name": "stdout",
     "output_type": "stream",
     "text": [
      "1 2 3 \n",
      "4 5 6 \n",
      "7 8 9 \n"
     ]
    }
   ],
   "source": [
    "matrix = [[1,2,3],\n",
    "          [4,5,6],\n",
    "          [7,8,9]]\n",
    "\n",
    "\n",
    "for i in range(len(matrix)):\n",
    "\n",
    "    for j in range(len(matrix)):\n",
    "\n",
    "        print(matrix[i][j], end=' ')\n",
    "    \n",
    "    print()"
   ]
  },
  {
   "cell_type": "code",
   "execution_count": 9,
   "metadata": {},
   "outputs": [
    {
     "name": "stdout",
     "output_type": "stream",
     "text": [
      "[[6, 8], [10, 12]]\n"
     ]
    }
   ],
   "source": [
    "a = [[1,2],\n",
    "    [3,4]]\n",
    "\n",
    "b = [[5,6],\n",
    "    [7,8]]\n",
    "\n",
    "result = [[0,0],[0,0]]\n",
    "\n",
    "for i in range(len(a)):\n",
    "\n",
    "    for j in range(len(b)):\n",
    "\n",
    "        result[i][j] = a[i][j]+b[i][j]\n",
    "\n",
    "print(result)\n"
   ]
  },
  {
   "cell_type": "code",
   "execution_count": 10,
   "metadata": {},
   "outputs": [
    {
     "name": "stdout",
     "output_type": "stream",
     "text": [
      "[1, 2, 3, 6, 9, 8, 7, 4, 5]\n"
     ]
    }
   ],
   "source": [
    "class Solution(object):\n",
    "    def spiralOrder(self,a):\n",
    "                \n",
    "        top = 0\n",
    "        bottom = len(a)-1\n",
    "        left = 0\n",
    "        right = len(a[0])-1\n",
    "        ans = []\n",
    "        i = 0\n",
    "\n",
    "        while top <= bottom and left <= right:\n",
    "\n",
    "            i = left\n",
    "\n",
    "            while i <= right:\n",
    "\n",
    "                ans.append(a[top][i])\n",
    "\n",
    "                i+=1\n",
    "\n",
    "            top+=1\n",
    "\n",
    "            i = top\n",
    "\n",
    "            while i <= bottom:\n",
    "\n",
    "                ans.append(a[i][right])\n",
    "\n",
    "                i+=1\n",
    "\n",
    "            right-=1\n",
    "\n",
    "            if top <= bottom:\n",
    "\n",
    "                i = right\n",
    "\n",
    "                while i >= left:\n",
    "\n",
    "                    ans.append(a[bottom][i])\n",
    "\n",
    "                    i-=1\n",
    "\n",
    "                bottom-=1\n",
    "\n",
    "            if left <= right:\n",
    "\n",
    "                i = bottom\n",
    "\n",
    "                while i >= top :\n",
    "\n",
    "                    ans.append(a[i][left])\n",
    "\n",
    "                    i-=1\n",
    "                \n",
    "                left+=1\n",
    "\n",
    "                    \n",
    "        return ans"
   ]
  },
  {
   "cell_type": "code",
   "execution_count": 16,
   "metadata": {},
   "outputs": [
    {
     "name": "stdout",
     "output_type": "stream",
     "text": [
      "False\n"
     ]
    }
   ],
   "source": [
    "matrix = [[1,3,5,7],\n",
    "         [10,11,16,20],\n",
    "         [23,30,34,60]]\n",
    "\n",
    "target = 100\n",
    "\n",
    "def searchin2d(matrix,target):\n",
    "\n",
    "    row = len(matrix)\n",
    "    col = len(matrix[0])\n",
    "\n",
    "    left = 0\n",
    "    right = (row*col) - 1\n",
    "\n",
    "    while left<= right:\n",
    "\n",
    "        mid = (left+right)//2\n",
    "\n",
    "        i = mid//col\n",
    "        j = mid%col\n",
    "\n",
    "        if target == matrix[i][j]:\n",
    "\n",
    "            return True\n",
    "\n",
    "        elif target > matrix[i][j]:\n",
    "\n",
    "            left = mid+1\n",
    "\n",
    "        else:\n",
    "\n",
    "            right = mid-1\n",
    "\n",
    "    return False\n",
    "\n",
    "print(searchin2d(matrix, target))"
   ]
  },
  {
   "cell_type": "code",
   "execution_count": 26,
   "metadata": {},
   "outputs": [
    {
     "data": {
      "text/plain": [
       "[1, 2]"
      ]
     },
     "execution_count": 26,
     "metadata": {},
     "output_type": "execute_result"
    }
   ],
   "source": [
    "def max1s(matrix):\n",
    "\n",
    "    count = 0\n",
    "    maxrow = 0\n",
    "\n",
    "    for i in range(len(matrix)):\n",
    "\n",
    "        temp = 0\n",
    "\n",
    "        for j in range(len(matrix[0])):\n",
    "\n",
    "            if matrix[i][j] == 1:\n",
    "\n",
    "                temp+=1\n",
    "\n",
    "        if count < temp:\n",
    "\n",
    "            count = temp\n",
    "\n",
    "            maxrow = i\n",
    "\n",
    "    return [maxrow,count]\n",
    "\n",
    "max1s([[0,0],[1,1],[0,0]])"
   ]
  },
  {
   "cell_type": "code",
   "execution_count": 7,
   "metadata": {},
   "outputs": [
    {
     "name": "stdout",
     "output_type": "stream",
     "text": [
      "True\n"
     ]
    }
   ],
   "source": [
    "def arrsum0(n):\n",
    "\n",
    "    sum = 0\n",
    "    s = set()\n",
    "\n",
    "    for i in range(len(n)):\n",
    "\n",
    "        sum+=n[i]\n",
    "\n",
    "        if sum == 0 or sum in s:\n",
    "\n",
    "            return True\n",
    "        \n",
    "        s.add(sum)\n",
    "\n",
    "    return False\n",
    "\n",
    "print(arrsum0([4, 2, -3, 1, 6]))"
   ]
  },
  {
   "cell_type": "code",
   "execution_count": 12,
   "metadata": {},
   "outputs": [
    {
     "name": "stdout",
     "output_type": "stream",
     "text": [
      "[3, -2, 1, -5, 2, -4]\n"
     ]
    }
   ],
   "source": [
    "def rearrange(n):\n",
    "\n",
    "    l = len(n)\n",
    "    pindex = 0\n",
    "    nindex = 1\n",
    "\n",
    "    while pindex < l and n[pindex]>0:\n",
    "\n",
    "        pindex+=2\n",
    "\n",
    "    while pindex <l and nindex<l:\n",
    "\n",
    "\n",
    "        while pindex < l and n[pindex]>=0:\n",
    "\n",
    "            pindex+=2\n",
    "\n",
    "        while nindex < l and n[nindex]<0:\n",
    "\n",
    "            nindex+=2\n",
    "\n",
    "        if pindex < l and nindex <l:\n",
    "\n",
    "            n[pindex], n[nindex] = n[nindex], n[pindex]\n",
    "\n",
    "    return n\n",
    "\n",
    "print(rearrange([3, 1, -2, -5, 2, -4]))"
   ]
  },
  {
   "cell_type": "code",
   "execution_count": 2,
   "metadata": {},
   "outputs": [
    {
     "name": "stdout",
     "output_type": "stream",
     "text": [
      "[[10, 10, 10], [10, 10, 10], [10, 10, 10]]\n"
     ]
    }
   ],
   "source": [
    "def addmatrix(a,b):\n",
    "\n",
    "    n = len(a)\n",
    "    m = len(a[0])\n",
    "    res = []\n",
    "\n",
    "    for i in range(n):\n",
    "\n",
    "        row = []\n",
    "\n",
    "        for j in range(m):\n",
    "\n",
    "            row.append(a[i][j]+b[i][j])\n",
    "            \n",
    "        res.append(row)\n",
    "\n",
    "    return res\n",
    "\n",
    "matrix1 = [[1, 2, 3], [4, 5, 6], [7, 8, 9]]\n",
    "matrix2 = [[9, 8, 7], [6, 5, 4], [3, 2, 1]]\n",
    "\n",
    "print(addmatrix(matrix1,matrix2))\n"
   ]
  },
  {
   "cell_type": "code",
   "execution_count": 3,
   "metadata": {},
   "outputs": [
    {
     "name": "stdout",
     "output_type": "stream",
     "text": [
      "[[-8, -6, -4], [-2, 0, 2], [4, 6, 8]]\n"
     ]
    }
   ],
   "source": [
    "def submatrix(a,b):\n",
    "\n",
    "    n = len(a)\n",
    "    m = len(a[0])\n",
    "\n",
    "    res = []\n",
    "\n",
    "    for i in range(n):\n",
    "\n",
    "        row = []\n",
    "\n",
    "        for j in range(m):\n",
    "\n",
    "            row.append(a[i][j]-b[i][j])\n",
    "\n",
    "        res.append(row)\n",
    "\n",
    "    return res\n",
    "\n",
    "matrix1 = [[1, 2, 3], [4, 5, 6], [7, 8, 9]]\n",
    "matrix2 = [[9, 8, 7], [6, 5, 4], [3, 2, 1]]\n",
    "\n",
    "print(submatrix(matrix1,matrix2))"
   ]
  },
  {
   "cell_type": "code",
   "execution_count": 9,
   "metadata": {},
   "outputs": [
    {
     "name": "stdout",
     "output_type": "stream",
     "text": [
      "[[30, 24, 18], [84, 69, 54], [138, 114, 90]]\n"
     ]
    }
   ],
   "source": [
    "def mulmatrix(a,b):\n",
    "\n",
    "    n = len(a)\n",
    "    m = len(a[0])\n",
    "    p = len(b)\n",
    "\n",
    "    result = [[0 for _ in range(m)] for _ in range(n)]\n",
    "\n",
    "    for i in range(n):\n",
    "\n",
    "        for j in range(m):\n",
    "\n",
    "            for k in range(p):\n",
    "\n",
    "                result[i][j]+= a[i][k]*b[k][j]\n",
    "\n",
    "    return result\n",
    "\n",
    "matrix1 = [[1, 2, 3], [4, 5, 6], [7, 8, 9]]\n",
    "matrix2 = [[9, 8, 7], [6, 5, 4], [3, 2, 1]]\n",
    "\n",
    "print(mulmatrix(matrix1,matrix2))"
   ]
  },
  {
   "cell_type": "code",
   "execution_count": 11,
   "metadata": {},
   "outputs": [
    {
     "name": "stdout",
     "output_type": "stream",
     "text": [
      "[[1, 4, 7], [2, 5, 8], [3, 6, 9]]\n"
     ]
    }
   ],
   "source": [
    "def transpose(a):\n",
    "\n",
    "    n = len(a)\n",
    "    m = len(a[0])\n",
    "    result = []\n",
    "\n",
    "    for i in range(m):\n",
    "\n",
    "        row = []\n",
    "\n",
    "        for j in range(n):\n",
    "\n",
    "            row.append(a[j][i])\n",
    "\n",
    "        result.append(row)\n",
    "    \n",
    "    return result\n",
    "    \n",
    "matrix = [[1, 2, 3], [4, 5, 6], [7, 8, 9]]\n",
    "print(transpose(matrix))"
   ]
  },
  {
   "cell_type": "code",
   "execution_count": null,
   "metadata": {},
   "outputs": [],
   "source": []
  },
  {
   "cell_type": "code",
   "execution_count": null,
   "metadata": {},
   "outputs": [],
   "source": []
  },
  {
   "cell_type": "code",
   "execution_count": null,
   "metadata": {},
   "outputs": [],
   "source": []
  },
  {
   "cell_type": "code",
   "execution_count": null,
   "metadata": {},
   "outputs": [],
   "source": []
  },
  {
   "cell_type": "code",
   "execution_count": null,
   "metadata": {},
   "outputs": [],
   "source": []
  },
  {
   "cell_type": "code",
   "execution_count": null,
   "metadata": {},
   "outputs": [],
   "source": []
  },
  {
   "cell_type": "code",
   "execution_count": null,
   "metadata": {},
   "outputs": [],
   "source": []
  }
 ],
 "metadata": {
  "kernelspec": {
   "display_name": ".venv",
   "language": "python",
   "name": "python3"
  },
  "language_info": {
   "codemirror_mode": {
    "name": "ipython",
    "version": 3
   },
   "file_extension": ".py",
   "mimetype": "text/x-python",
   "name": "python",
   "nbconvert_exporter": "python",
   "pygments_lexer": "ipython3",
   "version": "3.12.5"
  }
 },
 "nbformat": 4,
 "nbformat_minor": 2
}
