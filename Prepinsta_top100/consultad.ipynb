{
 "cells": [
  {
   "cell_type": "code",
   "execution_count": 18,
   "metadata": {},
   "outputs": [
    {
     "name": "stdout",
     "output_type": "stream",
     "text": [
      "[2, 3]\n"
     ]
    }
   ],
   "source": [
    "a = [1,2,3]\n",
    "b = [2,4]\n",
    "res = []\n",
    "count = 0\n",
    "i = 0\n",
    "j = 0\n",
    "\n",
    "while i < len(b):\n",
    "\n",
    "    count = 0\n",
    "    j = 0\n",
    "\n",
    "    while j< len(a):\n",
    "\n",
    "        if a[j] <= b[i]:\n",
    "\n",
    "            count+=1\n",
    "\n",
    "        j+=1\n",
    "\n",
    "    res.append(count)    \n",
    "    i+=1\n",
    "\n",
    "print(res)"
   ]
  },
  {
   "cell_type": "code",
   "execution_count": 29,
   "metadata": {},
   "outputs": [
    {
     "name": "stdout",
     "output_type": "stream",
     "text": [
      "10\n"
     ]
    }
   ],
   "source": [
    "def stock(n):\n",
    "\n",
    "    maxprof = 0\n",
    "\n",
    "    minprice = float('inf')\n",
    "\n",
    "    for i in n:\n",
    "\n",
    "        if i < minprice:\n",
    "\n",
    "            minprice = i\n",
    "\n",
    "        elif i - minprice >= maxprof:\n",
    "\n",
    "            maxprof = i - minprice\n",
    "\n",
    "    return maxprof\n",
    "\n",
    "print(stock([7, 1, 9,2,11,1,9,2]))"
   ]
  },
  {
   "cell_type": "code",
   "execution_count": 7,
   "metadata": {},
   "outputs": [
    {
     "name": "stdout",
     "output_type": "stream",
     "text": [
      "1 2\n",
      "2 3\n"
     ]
    }
   ],
   "source": [
    "def q1():\n",
    "\n",
    "    v, w = list(map(int, input().split(' ')))\n",
    "\n",
    "    a ,b = [int(x) for x in input().split(' ')]\n",
    "\n",
    "    print(v,w)\n",
    "    print(a,b)\n",
    "\n",
    "q1()"
   ]
  },
  {
   "cell_type": "code",
   "execution_count": 10,
   "metadata": {},
   "outputs": [
    {
     "name": "stdout",
     "output_type": "stream",
     "text": [
      "130 70\n"
     ]
    }
   ],
   "source": [
    "def q1():\n",
    "\n",
    "    v,w = [int(x) for x in input().split(' ')]\n",
    "\n",
    "    if w>=v or w>=2:\n",
    "        car = (4*v - w)//2\n",
    "\n",
    "        bike = v - car\n",
    "\n",
    "        print(f'{car} {bike}')\n",
    "    \n",
    "    else:\n",
    "\n",
    "        print('INVALID INPUT')\n",
    "    \n",
    "q1()"
   ]
  },
  {
   "cell_type": "code",
   "execution_count": 18,
   "metadata": {},
   "outputs": [
    {
     "name": "stdout",
     "output_type": "stream",
     "text": [
      "3\n"
     ]
    }
   ],
   "source": [
    "def q2():\n",
    "\n",
    "    s = input()\n",
    "\n",
    "    memo = {}\n",
    "\n",
    "    for i in s:\n",
    "\n",
    "        memo[i] = memo.get(i,0)+1\n",
    "\n",
    "    diff = abs(memo.get('#') - memo.get('*'))\n",
    "\n",
    "    if memo.get('#')> memo.get('*'):\n",
    "\n",
    "        diff = diff*-1\n",
    "\n",
    "    print(diff)\n",
    "\n",
    "q2()"
   ]
  },
  {
   "cell_type": "code",
   "execution_count": 28,
   "metadata": {},
   "outputs": [
    {
     "data": {
      "text/plain": [
       "3"
      ]
     },
     "execution_count": 28,
     "metadata": {},
     "output_type": "execute_result"
    }
   ],
   "source": [
    "def q3():\n",
    "\n",
    "    n = [int(x) for x in input().split(' ')]\n",
    "\n",
    "    #n = [7,4,8,2,9]\n",
    "\n",
    "    count = 1\n",
    "    highest = n[0]\n",
    "\n",
    "    for i in range(len(n)):\n",
    "\n",
    "        if n[i] > highest:\n",
    "\n",
    "            highest = n[i]\n",
    "\n",
    "            count+=1\n",
    "\n",
    "    return count\n",
    "\n",
    "q3()\n"
   ]
  },
  {
   "cell_type": "code",
   "execution_count": 31,
   "metadata": {},
   "outputs": [
    {
     "data": {
      "text/plain": [
       "2"
      ]
     },
     "execution_count": 31,
     "metadata": {},
     "output_type": "execute_result"
    }
   ],
   "source": [
    "def q4():\n",
    "\n",
    "    r = int(input())\n",
    "    c = int(input())\n",
    "\n",
    "    matrix = []\n",
    "    maxrow = 0\n",
    "    maxcount = 0\n",
    "\n",
    "    for i in range(r):\n",
    "\n",
    "        row = []\n",
    "        count = 0\n",
    "\n",
    "        for j in range(c):\n",
    "\n",
    "            row.append(int(input()))\n",
    "\n",
    "            if row[-1] == 1:\n",
    "\n",
    "                count+=1\n",
    "\n",
    "        if count> maxcount:\n",
    "\n",
    "            maxcount = count\n",
    "            maxrow = i\n",
    "\n",
    "        matrix.append(row)\n",
    "\n",
    "    return maxrow+1\n",
    "\n",
    "q4()"
   ]
  },
  {
   "cell_type": "code",
   "execution_count": 1,
   "metadata": {},
   "outputs": [
    {
     "data": {
      "text/plain": [
       "0"
      ]
     },
     "execution_count": 1,
     "metadata": {},
     "output_type": "execute_result"
    }
   ],
   "source": [
    "def q5():\n",
    "\n",
    "    t = int(input())\n",
    "\n",
    "    entering = [int(i) for i in input().split()]\n",
    "\n",
    "    exiting = [int(i) for i in input().split()]\n",
    "\n",
    "    existing = 0\n",
    "    maxpeep = 0\n",
    "\n",
    "    for i in range(len(entering)):\n",
    "\n",
    "        existing = existing+entering[i] - exiting[i]\n",
    "\n",
    "        maxpeep = max(maxpeep, existing)\n",
    "\n",
    "    return maxpeep\n",
    "\n",
    "q5()"
   ]
  },
  {
   "cell_type": "code",
   "execution_count": 42,
   "metadata": {},
   "outputs": [
    {
     "data": {
      "text/plain": [
       "'B'"
      ]
     },
     "execution_count": 42,
     "metadata": {},
     "output_type": "execute_result"
    }
   ],
   "source": [
    "def q6():\n",
    "\n",
    "    n = int(input())\n",
    "    l = []\n",
    "    memo = {}\n",
    "\n",
    "    for i in range(n):\n",
    "\n",
    "        color = input()\n",
    "\n",
    "        l.append(color)\n",
    "\n",
    "    for i in range(len(l)):\n",
    "\n",
    "        l[i] = l[i].upper()\n",
    "\n",
    "\n",
    "    for i in l:\n",
    "\n",
    "        memo[i] = memo.get(i,0) +1\n",
    "\n",
    "\n",
    "    for key, val in memo.items():\n",
    "\n",
    "        if val%2!=0:\n",
    "\n",
    "            return key\n",
    "            \n",
    "\n",
    "q6()"
   ]
  },
  {
   "cell_type": "code",
   "execution_count": 49,
   "metadata": {},
   "outputs": [
    {
     "name": "stdout",
     "output_type": "stream",
     "text": [
      "Trainee Number 1\n",
      "Trainee Number 3\n"
     ]
    }
   ],
   "source": [
    "def q7():\n",
    "\n",
    "    oxygens = []\n",
    "    avgs = []\n",
    "    result = []\n",
    "    \n",
    "\n",
    "    for i in range(9):\n",
    "\n",
    "        oxy = int(input())\n",
    "\n",
    "        oxygens.append(oxy)\n",
    "    \n",
    "    i =0\n",
    "    while i < 3:\n",
    "\n",
    "        avg = sum(oxygens[i::3])/3\n",
    "\n",
    "        avgs.append(avg)\n",
    "\n",
    "        i+=1\n",
    "\n",
    "    \n",
    "    maxavg = max(avgs)\n",
    "\n",
    "    for idx, ele in enumerate(avgs):\n",
    "\n",
    "        if ele == maxavg:\n",
    "\n",
    "            result.append(idx+1)\n",
    "\n",
    "    \n",
    "    for i in result:\n",
    "\n",
    "        print(f'Trainee Number {i}')\n",
    "    \n",
    "q7()\n"
   ]
  },
  {
   "cell_type": "code",
   "execution_count": null,
   "metadata": {},
   "outputs": [],
   "source": []
  }
 ],
 "metadata": {
  "kernelspec": {
   "display_name": ".venv",
   "language": "python",
   "name": "python3"
  },
  "language_info": {
   "codemirror_mode": {
    "name": "ipython",
    "version": 3
   },
   "file_extension": ".py",
   "mimetype": "text/x-python",
   "name": "python",
   "nbconvert_exporter": "python",
   "pygments_lexer": "ipython3",
   "version": "3.12.6"
  }
 },
 "nbformat": 4,
 "nbformat_minor": 2
}
