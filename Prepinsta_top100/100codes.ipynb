{
 "cells": [
  {
   "cell_type": "markdown",
   "metadata": {},
   "source": [
    "Positive or Negative number"
   ]
  },
  {
   "cell_type": "code",
   "execution_count": 1,
   "metadata": {},
   "outputs": [
    {
     "name": "stdout",
     "output_type": "stream",
     "text": [
      "10 is Positive\n"
     ]
    }
   ],
   "source": [
    "num = 10\n",
    "if num > 0:\n",
    "    print(f\"{num} is Positive\")\n",
    "elif num < 0:\n",
    "    print(f\"{num} is Negative\")\n",
    "else:\n",
    "    print(\"Zero\")\n"
   ]
  },
  {
   "cell_type": "markdown",
   "metadata": {},
   "source": [
    "Even or Odd number"
   ]
  },
  {
   "cell_type": "code",
   "execution_count": 2,
   "metadata": {},
   "outputs": [
    {
     "name": "stdout",
     "output_type": "stream",
     "text": [
      "7 is Odd\n"
     ]
    }
   ],
   "source": [
    "num = 7\n",
    "if num % 2 == 0:\n",
    "    print(f\"{num} is Even\")\n",
    "else:\n",
    "    print(f\"{num} is Odd\")\n"
   ]
  },
  {
   "cell_type": "markdown",
   "metadata": {},
   "source": [
    "Sum of First N Natural numbers"
   ]
  },
  {
   "cell_type": "code",
   "execution_count": 3,
   "metadata": {},
   "outputs": [
    {
     "name": "stdout",
     "output_type": "stream",
     "text": [
      "Sum of first 10 natural numbers is 55\n"
     ]
    }
   ],
   "source": [
    "n = 10\n",
    "sum_first_n = n * (n + 1) // 2\n",
    "print(f\"Sum of first {n} natural numbers is {sum_first_n}\")\n"
   ]
  },
  {
   "cell_type": "markdown",
   "metadata": {},
   "source": [
    "Sum of numbers in a given range"
   ]
  },
  {
   "cell_type": "code",
   "execution_count": 4,
   "metadata": {},
   "outputs": [
    {
     "name": "stdout",
     "output_type": "stream",
     "text": [
      "Sum of numbers from 1 to 10 is 55\n"
     ]
    }
   ],
   "source": [
    "start = 1\n",
    "end = 10\n",
    "sum_range = sum(range(start, end + 1))\n",
    "print(f\"Sum of numbers from {start} to {end} is {sum_range}\")\n"
   ]
  },
  {
   "cell_type": "markdown",
   "metadata": {},
   "source": [
    "Greatest of two numbers"
   ]
  },
  {
   "cell_type": "code",
   "execution_count": 5,
   "metadata": {},
   "outputs": [
    {
     "name": "stdout",
     "output_type": "stream",
     "text": [
      "The greatest of 10 and 20 is 20\n"
     ]
    }
   ],
   "source": [
    "num1 = 10\n",
    "num2 = 20\n",
    "greatest = num1 if num1 > num2 else num2\n",
    "print(f\"The greatest of {num1} and {num2} is {greatest}\")\n"
   ]
  },
  {
   "cell_type": "markdown",
   "metadata": {},
   "source": [
    "Greatest of the Three numbers"
   ]
  },
  {
   "cell_type": "code",
   "execution_count": 6,
   "metadata": {},
   "outputs": [
    {
     "name": "stdout",
     "output_type": "stream",
     "text": [
      "The greatest of 10, 20, and 15 is 20\n"
     ]
    }
   ],
   "source": [
    "num1 = 10\n",
    "num2 = 20\n",
    "num3 = 15\n",
    "greatest = max(num1, num2, num3)\n",
    "print(f\"The greatest of {num1}, {num2}, and {num3} is {greatest}\")\n"
   ]
  },
  {
   "cell_type": "markdown",
   "metadata": {},
   "source": [
    "Leap year or not"
   ]
  },
  {
   "cell_type": "code",
   "execution_count": 7,
   "metadata": {},
   "outputs": [
    {
     "name": "stdout",
     "output_type": "stream",
     "text": [
      "2019 is not a leap year\n"
     ]
    }
   ],
   "source": [
    "year = 2019\n",
    "\n",
    "if (year%4==0 and year%100 != 0) or (year %400 ==0):\n",
    "     print(f\"{year} is a leap year\")\n",
    "else:\n",
    "    print(f\"{year} is not a leap year\")"
   ]
  },
  {
   "cell_type": "markdown",
   "metadata": {},
   "source": [
    "Prime numbe"
   ]
  },
  {
   "cell_type": "code",
   "execution_count": 8,
   "metadata": {},
   "outputs": [
    {
     "name": "stdout",
     "output_type": "stream",
     "text": [
      "5 is a prime number\n"
     ]
    }
   ],
   "source": [
    "n = 5\n",
    "\n",
    "if n > 1:\n",
    "    for i in range(2, int(pow(n, 0.5)) + 1):\n",
    "        if n % i == 0:\n",
    "            print(f\"{n} is not a prime number\")\n",
    "            break\n",
    "    else:\n",
    "        print(f\"{n} is a prime number\")\n",
    "else:\n",
    "    print(f\"{n} is not a prime number\")\n"
   ]
  },
  {
   "cell_type": "markdown",
   "metadata": {},
   "source": [
    "Prime number within a given range"
   ]
  },
  {
   "cell_type": "code",
   "execution_count": 9,
   "metadata": {},
   "outputs": [
    {
     "name": "stdout",
     "output_type": "stream",
     "text": [
      "Prime numbers between 10 and 50 are: [11, 13, 17, 19, 23, 29, 31, 37, 41, 43, 47]\n"
     ]
    }
   ],
   "source": [
    "start = 10\n",
    "end = 50\n",
    "prime_numbers = []\n",
    "\n",
    "for num in range(start, end + 1):\n",
    "    if num > 1:\n",
    "        is_prime = True\n",
    "        for i in range(2, int(pow(num, 0.5)) + 1):\n",
    "            if num % i == 0:\n",
    "                is_prime = False\n",
    "                break\n",
    "        if is_prime:\n",
    "            prime_numbers.append(num)\n",
    "\n",
    "print(f\"Prime numbers between {start} and {end} are: {prime_numbers}\")\n",
    "\n",
    "#Sieve of Eratosthenes\n",
    "\n",
    "def primes_upto(n):\n",
    "    prime = [True] * (n + 1)  # Initialize a list `prime` with True values up to n\n",
    "    p = 2  # Start with the smallest prime number\n",
    "    \n",
    "    while (p * p <= n):  # Iterate until p^2 is greater than n\n",
    "        if prime[p]:  # If p is still marked as True (i.e., prime)\n",
    "            for i in range(p * p, n + 1, p):  # Mark multiples of p as False\n",
    "                prime[i] = False\n",
    "        p += 1  # Move to the next number\n",
    "    \n",
    "    primes = [p for p in range(2, n + 1) if prime[p]]  # Collect all primes from the list `prime`\n",
    "    return primes  # Return the list of prime numbers"
   ]
  },
  {
   "cell_type": "markdown",
   "metadata": {},
   "source": [
    "Sum of digits of a number"
   ]
  },
  {
   "cell_type": "code",
   "execution_count": 10,
   "metadata": {},
   "outputs": [
    {
     "name": "stdout",
     "output_type": "stream",
     "text": [
      "13\n",
      "13\n"
     ]
    }
   ],
   "source": [
    "num = 724\n",
    "num2 = 724\n",
    "sum = 0\n",
    "\n",
    "while num!=0:\n",
    "\n",
    "    last = int(num%10)\n",
    "\n",
    "    sum = sum+last\n",
    "\n",
    "    num = num//10\n",
    "\n",
    "print(sum)\n",
    "\n",
    "#using recursion\n",
    "\n",
    "def dsum(num2):\n",
    "\n",
    "    if num2 ==0:\n",
    "        return 0\n",
    "    \n",
    "    return int(num2%10)+ dsum(num2//10)\n",
    "\n",
    "print(dsum(num2))"
   ]
  },
  {
   "cell_type": "markdown",
   "metadata": {},
   "source": [
    "Reverse of a number"
   ]
  },
  {
   "cell_type": "code",
   "execution_count": 11,
   "metadata": {},
   "outputs": [
    {
     "name": "stdout",
     "output_type": "stream",
     "text": [
      "567\n"
     ]
    }
   ],
   "source": [
    "num = 765\n",
    "reverse = 0\n",
    "\n",
    "while num>0:\n",
    "\n",
    "    reverse = reverse*10 + num%10\n",
    "    num = num // 10\n",
    "\n",
    "print(reverse)    "
   ]
  },
  {
   "cell_type": "markdown",
   "metadata": {},
   "source": [
    "Palindrome number"
   ]
  },
  {
   "cell_type": "code",
   "execution_count": 12,
   "metadata": {},
   "outputs": [
    {
     "name": "stdout",
     "output_type": "stream",
     "text": [
      "the number is a palindrome\n"
     ]
    }
   ],
   "source": [
    "num = 767\n",
    "temp = num\n",
    "reverse = 0\n",
    "\n",
    "while temp>0:\n",
    "    reverse = reverse*10 + temp%10\n",
    "    temp = temp//10\n",
    "\n",
    "if reverse ==num:\n",
    "    print('the number is a palindrome')\n",
    "else:\n",
    "    print(f'the number is not a palindrome')"
   ]
  },
  {
   "cell_type": "markdown",
   "metadata": {},
   "source": [
    "Armstrong number"
   ]
  },
  {
   "cell_type": "code",
   "execution_count": 13,
   "metadata": {},
   "outputs": [
    {
     "name": "stdout",
     "output_type": "stream",
     "text": [
      "Number is not Armstrong\n"
     ]
    }
   ],
   "source": [
    "num = 377\n",
    "temp = num\n",
    "sum = 0\n",
    "l = len(str(num))\n",
    "\n",
    "for i in range(l):\n",
    "    last = temp%10\n",
    "    temp = temp//10\n",
    "\n",
    "    sum = sum+pow(last,l)\n",
    "\n",
    "if sum == num:\n",
    "    print('Number is Armstrong')\n",
    "else:\n",
    "    print('Number is not Armstrong')\n"
   ]
  },
  {
   "cell_type": "markdown",
   "metadata": {},
   "source": [
    "Armstrong number in a given range "
   ]
  },
  {
   "cell_type": "code",
   "execution_count": 14,
   "metadata": {},
   "outputs": [
    {
     "name": "stdout",
     "output_type": "stream",
     "text": [
      "[153, 370, 371, 407]\n"
     ]
    }
   ],
   "source": [
    "first = 150\n",
    "second = 1000\n",
    "\n",
    "result = []\n",
    "\n",
    "def isArm(val):\n",
    "    sum = 0\n",
    "\n",
    "    all_d = [int(d) for d in str(val)]\n",
    "\n",
    "    for i in range(len(all_d)):\n",
    "\n",
    "        sum += pow(all_d[i], len(all_d))\n",
    "        \n",
    "    return sum == val\n",
    "\n",
    "for i in range(first, second + 1):\n",
    "    if isArm(i):\n",
    "        result.append(i)\n",
    "\n",
    "print(result)\n"
   ]
  },
  {
   "cell_type": "markdown",
   "metadata": {},
   "source": [
    "Fibonacci Series upto nth term"
   ]
  },
  {
   "cell_type": "code",
   "execution_count": 15,
   "metadata": {},
   "outputs": [
    {
     "name": "stdout",
     "output_type": "stream",
     "text": [
      "0 1 1 2 3 5 8 13 21 34 55 89 144 233 377 "
     ]
    }
   ],
   "source": [
    "def fibseries(i):\n",
    "    if i <= 1:\n",
    "        return i\n",
    "    else:\n",
    "        return fibseries(i - 1) + fibseries(i - 2)\n",
    "n = 15\n",
    "\n",
    "for i in range(n):\n",
    "    print(fibseries(i), end=\" \")"
   ]
  },
  {
   "cell_type": "markdown",
   "metadata": {},
   "source": [
    "Find the Nth Term of the Fibonacci Series"
   ]
  },
  {
   "cell_type": "code",
   "execution_count": 16,
   "metadata": {},
   "outputs": [
    {
     "name": "stdout",
     "output_type": "stream",
     "text": [
      "5\n"
     ]
    }
   ],
   "source": [
    "def fibN(n):\n",
    "\n",
    "    if n==0:\n",
    "        return 0\n",
    "    \n",
    "    M = [[1,1],\n",
    "         [1,0]]\n",
    "    \n",
    "    M= power(M,n-1)\n",
    "\n",
    "    return M[0][0]\n",
    "\n",
    "\n",
    "def power(M,exp):\n",
    "\n",
    "    result = [[1,0],\n",
    "              [0,1]]\n",
    "    base = M\n",
    "\n",
    "    while exp>0:\n",
    "\n",
    "        if exp%2 != 0:\n",
    "            result = multiply(result,base)\n",
    "\n",
    "        base = multiply(base,base)\n",
    "        exp = exp//2\n",
    "\n",
    "    return result \n",
    "\n",
    "def multiply(A, B):\n",
    "    \"\"\"Multiplies two 2x2 matrices A and B.\"\"\"\n",
    "    return [\n",
    "        [A[0][0]*B[0][0] + A[0][1]*B[1][0], A[0][0]*B[0][1] + A[0][1]*B[1][1]],\n",
    "        [A[1][0]*B[0][0] + A[1][1]*B[1][0], A[1][0]*B[0][1] + A[1][1]*B[1][1]]\n",
    "    ]\n",
    "\n",
    "print(fibN(5))"
   ]
  },
  {
   "cell_type": "markdown",
   "metadata": {},
   "source": [
    "![alt text](<11-25-24 2024-06-22.png>)"
   ]
  },
  {
   "cell_type": "markdown",
   "metadata": {},
   "source": [
    "Factorial of a number"
   ]
  },
  {
   "cell_type": "code",
   "execution_count": 17,
   "metadata": {},
   "outputs": [
    {
     "name": "stdout",
     "output_type": "stream",
     "text": [
      "120\n"
     ]
    }
   ],
   "source": [
    "def fact(n):\n",
    "\n",
    "    if n==0:\n",
    "        return 1\n",
    "    \n",
    "    return n*fact(n-1)\n",
    "\n",
    "print(fact(5))"
   ]
  },
  {
   "cell_type": "markdown",
   "metadata": {},
   "source": [
    "Power of a number"
   ]
  },
  {
   "cell_type": "code",
   "execution_count": 18,
   "metadata": {},
   "outputs": [
    {
     "name": "stdout",
     "output_type": "stream",
     "text": [
      "25\n",
      "25\n"
     ]
    }
   ],
   "source": [
    "n = 5\n",
    "exp = 2\n",
    "print(n**2)\n",
    "\n",
    "#without power op\n",
    "result = 1\n",
    "for i in range(exp):\n",
    "    result = result*n\n",
    "print(result)"
   ]
  },
  {
   "cell_type": "markdown",
   "metadata": {},
   "source": [
    "Factor of a number"
   ]
  },
  {
   "cell_type": "code",
   "execution_count": 19,
   "metadata": {},
   "outputs": [
    {
     "name": "stdout",
     "output_type": "stream",
     "text": [
      "1 100 2 50 4 25 5 20 10 "
     ]
    }
   ],
   "source": [
    "import math\n",
    "\n",
    "def printFactor(n):\n",
    "    i = 1\n",
    "\n",
    "    while i <= math.sqrt(n):\n",
    "        \n",
    "        if n % i == 0:\n",
    "            if n // i == i:\n",
    "                print(i, end=' ')\n",
    "            else:\n",
    "                print(i, int(n / i), end=' ')\n",
    "        i = i + 1\n",
    "\n",
    "printFactor(100)"
   ]
  },
  {
   "cell_type": "markdown",
   "metadata": {},
   "source": [
    "Prime Factors"
   ]
  },
  {
   "cell_type": "code",
   "execution_count": 20,
   "metadata": {},
   "outputs": [
    {
     "name": "stdout",
     "output_type": "stream",
     "text": [
      "[2, 3, 5, 7]\n"
     ]
    }
   ],
   "source": [
    "def Primefact(n):\n",
    "\n",
    "    factors = []\n",
    "\n",
    "    while n%2 ==0:\n",
    "        factors.append(2)\n",
    "\n",
    "        n = n//2\n",
    "\n",
    "    for i in range(3, int(pow(n,0.5))+1, 2):\n",
    "\n",
    "        while n% i ==0:\n",
    "\n",
    "            factors.append(i)\n",
    "            n = n //i\n",
    "\n",
    "    if n > 2:\n",
    "        factors.append(n)\n",
    "\n",
    "    return factors\n",
    "\n",
    "print(Primefact(210))\n"
   ]
  },
  {
   "cell_type": "markdown",
   "metadata": {},
   "source": [
    "Strong number - A Number that is equal to the sum of the factorial of it's individual digits"
   ]
  },
  {
   "cell_type": "code",
   "execution_count": 21,
   "metadata": {},
   "outputs": [
    {
     "name": "stdout",
     "output_type": "stream",
     "text": [
      "strong number\n"
     ]
    }
   ],
   "source": [
    "def fact(x):\n",
    "\n",
    "    if x<=1:\n",
    "        return 1\n",
    "    return x*fact(x-1)\n",
    "\n",
    "def strong(n):\n",
    "\n",
    "    temp = n\n",
    "    sum = 0\n",
    "\n",
    "    while temp>=1:\n",
    "\n",
    "        l = temp%10\n",
    "\n",
    "        sum = sum + fact(l)\n",
    "\n",
    "        temp = temp//10\n",
    "\n",
    "    return n == sum\n",
    "\n",
    "ans = strong(145)\n",
    "\n",
    "if ans:\n",
    "\n",
    "    print('strong number')\n",
    "else:\n",
    "    print('not strong')\n"
   ]
  },
  {
   "cell_type": "markdown",
   "metadata": {},
   "source": [
    "Perfect number - A Number that can be represented as the sum of all the factors of the number "
   ]
  },
  {
   "cell_type": "code",
   "execution_count": 22,
   "metadata": {},
   "outputs": [
    {
     "name": "stdout",
     "output_type": "stream",
     "text": [
      "perfect number\n"
     ]
    }
   ],
   "source": [
    "def perfect(n):\n",
    "\n",
    "    sum = 0\n",
    "\n",
    "    for i in range(1, int(pow(n,0.5))):\n",
    "\n",
    "        if n%i == 0:\n",
    "\n",
    "            if i == 1:\n",
    "                sum = sum+i\n",
    "\n",
    "            elif i == n/i:\n",
    "                sum = sum+i\n",
    "\n",
    "            else :\n",
    "                sum = sum + i + (n/i)\n",
    "    \n",
    "    return n == sum\n",
    "\n",
    "ans = perfect(28)\n",
    "\n",
    "if ans:\n",
    "\n",
    "    print('perfect number')\n",
    "else:\n",
    "    print('not perfect')\n"
   ]
  },
  {
   "cell_type": "markdown",
   "metadata": {},
   "source": [
    "Perfect square"
   ]
  },
  {
   "cell_type": "code",
   "execution_count": 23,
   "metadata": {},
   "outputs": [
    {
     "name": "stdout",
     "output_type": "stream",
     "text": [
      "not perfect\n"
     ]
    }
   ],
   "source": [
    "from math import sqrt\n",
    "\n",
    "def perfectSq(n):\n",
    "    if n < 0:\n",
    "        return False\n",
    "    \n",
    "    root = int(sqrt(n))\n",
    "    return (root * root) == n\n",
    "\n",
    "ans = perfectSq(28)  \n",
    "\n",
    "if ans:\n",
    "    print('perfect square')\n",
    "else:\n",
    "    print('not perfect')\n"
   ]
  },
  {
   "cell_type": "markdown",
   "metadata": {},
   "source": [
    "Automorphic Number - A number whose square ends with the same number is known as an Automorphic number. like 5 = 25 sp 5 is automorphic"
   ]
  },
  {
   "cell_type": "code",
   "execution_count": 24,
   "metadata": {},
   "outputs": [
    {
     "name": "stdout",
     "output_type": "stream",
     "text": [
      "not automorphic\n"
     ]
    }
   ],
   "source": [
    "def automorphic(n):\n",
    "\n",
    "    sq = n*n\n",
    "\n",
    "    digit = sq%10\n",
    "\n",
    "    return n == digit\n",
    "\n",
    "ans = automorphic(3)  \n",
    "\n",
    "if ans:\n",
    "    print('automorphic')\n",
    "else:\n",
    "    print('not automorphic')"
   ]
  },
  {
   "cell_type": "markdown",
   "metadata": {},
   "source": [
    "Harshad Number - A Number that is divisible by the sum of it's digits is known as a Harshad number."
   ]
  },
  {
   "cell_type": "code",
   "execution_count": 25,
   "metadata": {},
   "outputs": [
    {
     "name": "stdout",
     "output_type": "stream",
     "text": [
      "harshad\n"
     ]
    }
   ],
   "source": [
    "def harshad(n):\n",
    "\n",
    "    temp = n\n",
    "    sum = 0\n",
    "\n",
    "    while temp>0:\n",
    "        l = temp%10\n",
    "        sum = sum+l\n",
    "        temp = temp//10\n",
    "\n",
    "    if n%sum == 0:\n",
    "        return True\n",
    "    else:\n",
    "        return False\n",
    "    \n",
    "ans = harshad(21)  \n",
    "\n",
    "if ans:\n",
    "    print('harshad')\n",
    "else:\n",
    "    print('not harshad')"
   ]
  },
  {
   "cell_type": "markdown",
   "metadata": {},
   "source": [
    "Abundant Number - A Number that is smaller than the sum of all it's factors except the number itself is known as an Abundant number."
   ]
  },
  {
   "cell_type": "code",
   "execution_count": 26,
   "metadata": {},
   "outputs": [
    {
     "name": "stdout",
     "output_type": "stream",
     "text": [
      "Abundant Number\n"
     ]
    }
   ],
   "source": [
    "import math\n",
    "\n",
    "n = 12\n",
    "sum = 0 \n",
    "\n",
    "i = 1\n",
    "while i <= math.sqrt(n):\n",
    "    if n % i == 0:\n",
    "        if n // i == i:  \n",
    "            sum += i\n",
    "        else:\n",
    "            sum += i + n // i\n",
    "    i += 1\n",
    "\n",
    "if sum > n:\n",
    "    print(\"Abundant Number\")\n",
    "else:\n",
    "    print(\"not an Abundant Number\")\n"
   ]
  },
  {
   "cell_type": "markdown",
   "metadata": {},
   "source": [
    "Working with Numbers"
   ]
  },
  {
   "cell_type": "markdown",
   "metadata": {},
   "source": [
    "Highest Common Factor(HCF)\n",
    "sol - The Euclidean algorithm finds the HCF by repeatedly replacing the larger number with the remainder of dividing the larger number by the smaller one until the remainder is zero. The last non-zero remainder is the HCF.\n",
    "time complexity = o(log(min(a,b)))"
   ]
  },
  {
   "cell_type": "code",
   "execution_count": 27,
   "metadata": {},
   "outputs": [
    {
     "name": "stdout",
     "output_type": "stream",
     "text": [
      "The HCF of 36 and 60 is 12\n"
     ]
    }
   ],
   "source": [
    "def hcf(a,b):\n",
    "\n",
    "    while b !=0 :\n",
    "\n",
    "        a, b = b, a%b  \n",
    "\n",
    "    return a\n",
    "\n",
    "num1 = 36\n",
    "num2 = 60\n",
    "hcf = hcf(num1, num2)\n",
    "print(f\"The HCF of {num1} and {num2} is {hcf}\")"
   ]
  },
  {
   "cell_type": "markdown",
   "metadata": {},
   "source": [
    "Lowest Common Multiple (LCM)\n",
    "sol - use Euclidean algorithm for hcf and divide it with product of numbers\n",
    "time complexity = o(log(min(a,b)))"
   ]
  },
  {
   "cell_type": "code",
   "execution_count": 28,
   "metadata": {},
   "outputs": [
    {
     "name": "stdout",
     "output_type": "stream",
     "text": [
      "180\n"
     ]
    }
   ],
   "source": [
    "def hcf(a,b):\n",
    "\n",
    "    while b != 0:\n",
    "\n",
    "        a,b = b, a%b\n",
    "\n",
    "    return a\n",
    "\n",
    "lcm = abs(36*60)//hcf(36,60)\n",
    "\n",
    "print(lcm)\n"
   ]
  },
  {
   "attachments": {
    "image.png": {
     "image/png": "[encoded data removed]"
    }
   },
   "cell_type": "markdown",
   "metadata": {},
   "source": [
    "Binary to Decimal to conversion-\n",
    "![image.png](attachment:image.png)"
   ]
  },
  {
   "cell_type": "code",
   "execution_count": 29,
   "metadata": {},
   "outputs": [
    {
     "name": "stdout",
     "output_type": "stream",
     "text": [
      "13\n"
     ]
    }
   ],
   "source": [
    "def binary_to_decimal(binary_num):\n",
    "    decimal = 0\n",
    "    base = 1\n",
    "    \n",
    "    while binary_num > 0:\n",
    "        last = binary_num % 10\n",
    "        decimal += last * base\n",
    "        binary_num //= 10\n",
    "        base *= 2\n",
    "    \n",
    "    return decimal\n",
    "\n",
    "\n",
    "binary_number = 1101\n",
    "decimal_number = binary_to_decimal(binary_number)\n",
    "print(decimal_number)\n"
   ]
  },
  {
   "attachments": {
    "image.png": {
     "image/png": "[encoded data removed]"
    }
   },
   "cell_type": "markdown",
   "metadata": {},
   "source": [
    "Octal to decimal-\n",
    "\n",
    "![image.png](attachment:image.png)"
   ]
  },
  {
   "cell_type": "code",
   "execution_count": 30,
   "metadata": {},
   "outputs": [
    {
     "name": "stdout",
     "output_type": "stream",
     "text": [
      "302\n"
     ]
    }
   ],
   "source": [
    "def octal_to_decimal(octal_num):\n",
    "    decimal = 0\n",
    "    base = 1\n",
    "    \n",
    "    while octal_num > 0:\n",
    "        last = octal_num % 10\n",
    "        decimal += last * base\n",
    "        octal_num //= 10\n",
    "        base *= 8\n",
    "    \n",
    "    return decimal\n",
    "\n",
    "\n",
    "octal_number = 456\n",
    "decimal_number = octal_to_decimal(octal_number)\n",
    "print(decimal_number)\n"
   ]
  },
  {
   "attachments": {
    "image.png": {
     "image/png": "[encoded data removed]"
    }
   },
   "cell_type": "markdown",
   "metadata": {},
   "source": [
    "Hexadecimal to Decimal -\n",
    "![image.png](attachment:image.png)"
   ]
  },
  {
   "cell_type": "code",
   "execution_count": 31,
   "metadata": {},
   "outputs": [
    {
     "name": "stdout",
     "output_type": "stream",
     "text": [
      "201\n"
     ]
    }
   ],
   "source": [
    "def hex_to_decimal(hex_string):\n",
    "    h_to_d =  {'0': 0, '1': 1, '2': 2, '3': 3,\n",
    "               '4': 4, '5': 5, '6': 6, '7': 7,\n",
    "               '8': 8, '9': 9, 'A': 10, 'B': 11,\n",
    "               'C': 12, 'D': 13, 'E': 14, 'F': 15}\n",
    "    \n",
    "    decimal = 0\n",
    "    base = len(hex_string) - 1\n",
    "    \n",
    "    for char in hex_string:\n",
    "        decimal += h_to_d[char.upper()] * (16 ** base)\n",
    "        base -= 1\n",
    "    \n",
    "    return decimal\n",
    "\n",
    "\n",
    "hexadecimal = \"C9\"\n",
    "decimal_number = hex_to_decimal(hexadecimal)\n",
    "print(decimal_number)\n"
   ]
  },
  {
   "cell_type": "markdown",
   "metadata": {},
   "source": [
    "decimal to binary-\n",
    "Start with the decimal number, divide it by 2, record the remainder (0 or 1), and continue dividing the quotient by 2 until the quotient is 0."
   ]
  },
  {
   "cell_type": "code",
   "execution_count": 32,
   "metadata": {},
   "outputs": [
    {
     "name": "stdout",
     "output_type": "stream",
     "text": [
      "1101\n"
     ]
    }
   ],
   "source": [
    "def decimal_to_binary(num):\n",
    "    binary = []\n",
    "\n",
    "    while num > 0:\n",
    "        rem = num % 2\n",
    "        binary.append(str(rem))\n",
    "        num = num // 2\n",
    "\n",
    "    binary.reverse()\n",
    "    binary_number = ''.join(binary)\n",
    "    return binary_number\n",
    "\n",
    "\n",
    "decimal_number = 13\n",
    "binary_representation = decimal_to_binary(decimal_number)\n",
    "print(binary_representation)\n"
   ]
  },
  {
   "cell_type": "markdown",
   "metadata": {},
   "source": [
    "decimal to octal - \n",
    "Start with the decimal number, divide it by 8, record the remainders, and continue dividing the quotient by 8 until the quotient is 0"
   ]
  },
  {
   "cell_type": "code",
   "execution_count": 33,
   "metadata": {},
   "outputs": [
    {
     "name": "stdout",
     "output_type": "stream",
     "text": [
      "173\n"
     ]
    }
   ],
   "source": [
    "def decimal_to_octal(num):\n",
    "    octal = []\n",
    "\n",
    "    while num > 0:\n",
    "        rem = num % 8\n",
    "        octal.append(str(rem))\n",
    "        num = num // 8\n",
    "\n",
    "    octal.reverse()\n",
    "    octal_number = ''.join(octal)\n",
    "    return octal_number\n",
    "\n",
    "\n",
    "decimal_number = 123\n",
    "octal_representation = decimal_to_octal(decimal_number)\n",
    "print(octal_representation)"
   ]
  },
  {
   "cell_type": "markdown",
   "metadata": {},
   "source": [
    "Decimal to Hexadecimal"
   ]
  },
  {
   "cell_type": "code",
   "execution_count": 34,
   "metadata": {},
   "outputs": [
    {
     "name": "stdout",
     "output_type": "stream",
     "text": [
      "DF3\n"
     ]
    }
   ],
   "source": [
    "def decimal_to_hexadecimal(num):\n",
    "    h = []\n",
    "    all_h = '0123456789ABCDEF'\n",
    "\n",
    "    while num > 0:\n",
    "        rem = num % 16\n",
    "        h.append(all_h[rem])\n",
    "        num = num // 16\n",
    "\n",
    "    h.reverse()\n",
    "    hexadecimal_number = ''.join(h)\n",
    "    return hexadecimal_number\n",
    "\n",
    "\n",
    "decimal_number = 3571\n",
    "hexadecimal_representation = decimal_to_hexadecimal(decimal_number)\n",
    "print(hexadecimal_representation)\n"
   ]
  },
  {
   "cell_type": "markdown",
   "metadata": {},
   "source": [
    "binary to octal -\n",
    "start from rightmost and make groups of 3,add extra zeroes if group has less than 3 and use the map to extract the values and add them to final octal value"
   ]
  },
  {
   "cell_type": "code",
   "execution_count": 35,
   "metadata": {},
   "outputs": [
    {
     "name": "stdout",
     "output_type": "stream",
     "text": [
      "12\n"
     ]
    }
   ],
   "source": [
    "def binary_to_octal(binary):\n",
    "    octal = ''\n",
    "\n",
    "    if len(binary) % 3 == 1:\n",
    "        binary = '00' + binary\n",
    "    elif len(binary) % 3 == 2:\n",
    "        binary = '0' + binary\n",
    "\n",
    "    all_o = {\n",
    "        '000': '0', '001': '1', '010': '2', '011': '3',\n",
    "        '100': '4', '101': '5', '110': '6', '111': '7'\n",
    "    }\n",
    "\n",
    "    for i in range(0, len(binary), 3):\n",
    "        triples = binary[i:i+3]\n",
    "        od = all_o[triples]\n",
    "        octal += od\n",
    "\n",
    "    return octal\n",
    "\n",
    "\n",
    "binary_number = '1010'\n",
    "octal_representation = binary_to_octal(binary_number)\n",
    "print(octal_representation)  \n"
   ]
  },
  {
   "cell_type": "markdown",
   "metadata": {},
   "source": [
    "octal to binary -"
   ]
  },
  {
   "cell_type": "code",
   "execution_count": 36,
   "metadata": {},
   "outputs": [
    {
     "name": "stdout",
     "output_type": "stream",
     "text": [
      "001010\n"
     ]
    }
   ],
   "source": [
    "def octal_to_binary(octal):\n",
    "    all_b = {\n",
    "        '0': \"000\",\n",
    "        '1': \"001\",\n",
    "        '2': \"010\",\n",
    "        '3': \"011\",\n",
    "        '4': \"100\",\n",
    "        '5': \"101\",\n",
    "        '6': \"110\",\n",
    "        '7': \"111\"\n",
    "    }\n",
    "\n",
    "    binary_representation = \"\"\n",
    "\n",
    "    for digit in octal:\n",
    "        binary_representation += all_b.get(digit)\n",
    "\n",
    "    return binary_representation\n",
    "\n",
    "octal_number = '12'\n",
    "binary_representation = octal_to_binary(octal_number)\n",
    "print(binary_representation)\n"
   ]
  },
  {
   "cell_type": "markdown",
   "metadata": {},
   "source": [
    "Quadrant in which the given co-ordinate lie"
   ]
  },
  {
   "cell_type": "code",
   "execution_count": 37,
   "metadata": {},
   "outputs": [
    {
     "ename": "ValueError",
     "evalue": "not enough values to unpack (expected 2, got 0)",
     "output_type": "error",
     "traceback": [
      "\u001b[0;31m---------------------------------------------------------------------------\u001b[0m",
      "\u001b[0;31mValueError\u001b[0m                                Traceback (most recent call last)",
      "Cell \u001b[0;32mIn[37], line 1\u001b[0m\n\u001b[0;32m----> 1\u001b[0m x, y \u001b[38;5;241m=\u001b[39m \u001b[38;5;28mmap\u001b[39m(\u001b[38;5;28mint\u001b[39m, \u001b[38;5;28minput\u001b[39m(\u001b[38;5;124m\"\u001b[39m\u001b[38;5;124mInsert the value for variable X and Y : \u001b[39m\u001b[38;5;124m\"\u001b[39m)\u001b[38;5;241m.\u001b[39msplit())\n\u001b[1;32m      3\u001b[0m \u001b[38;5;28;01mif\u001b[39;00m x \u001b[38;5;241m>\u001b[39m \u001b[38;5;241m0\u001b[39m \u001b[38;5;129;01mand\u001b[39;00m y \u001b[38;5;241m>\u001b[39m \u001b[38;5;241m0\u001b[39m:\n\u001b[1;32m      4\u001b[0m     \u001b[38;5;28mprint\u001b[39m(\u001b[38;5;124mf\u001b[39m\u001b[38;5;124m\"\u001b[39m\u001b[38;5;124mPoint (\u001b[39m\u001b[38;5;132;01m{\u001b[39;00mx\u001b[38;5;132;01m}\u001b[39;00m\u001b[38;5;124m, \u001b[39m\u001b[38;5;132;01m{\u001b[39;00my\u001b[38;5;132;01m}\u001b[39;00m\u001b[38;5;124m) lies in the 1st quadrant\u001b[39m\u001b[38;5;124m\"\u001b[39m)\n",
      "\u001b[0;31mValueError\u001b[0m: not enough values to unpack (expected 2, got 0)"
     ]
    }
   ],
   "source": [
    "x, y = map(int, input(\"Insert the value for variable X and Y : \").split())\n",
    "\n",
    "if x > 0 and y > 0:\n",
    "    print(f\"Point ({x}, {y}) lies in the 1st quadrant\")\n",
    "\n",
    "elif x < 0 and y > 0:\n",
    "    print(f\"Point ({x}, {y}) lies in the 2nd quadrant\")\n",
    "\n",
    "elif x < 0 and y < 0:\n",
    "    print(f\"Point ({x}, {y}) lies in the 3rd quadrant\")\n",
    "\n",
    "elif x > 0 and y < 0:\n",
    "    print(f\"Point ({x}, {y}) lies in the 4th quadrant\")\n",
    "\n",
    "elif x == 0 and y == 0:\n",
    "    print(f\"Point ({x}, {y}) lies at the origin\")\n",
    "\n",
    "elif y == 0 and x != 0:\n",
    "    print(f\"Point ({x}, {y}) lies on the x-axis\")\n",
    "\n",
    "elif x == 0 and y != 0:\n",
    "    print(f\"Point ({x}, {y}) lies on the y-axis\")"
   ]
  },
  {
   "cell_type": "markdown",
   "metadata": {},
   "source": [
    "All possible permutations in which n people can occupy r seats in a theater.\n",
    "Use permutation formula { factorial(n) / factorial(n-r) }"
   ]
  },
  {
   "cell_type": "code",
   "execution_count": null,
   "metadata": {},
   "outputs": [
    {
     "name": "stdout",
     "output_type": "stream",
     "text": [
      "6\n"
     ]
    }
   ],
   "source": [
    "def fact(n):\n",
    "\n",
    "    fact = 1\n",
    "\n",
    "    for i in range(n, 1, -1):\n",
    "        fact = fact*i\n",
    "\n",
    "    return fact\n",
    "\n",
    "n = 10\n",
    "r = 6\n",
    "\n",
    "p = fact(n)//fact(n-r)\n",
    "\n",
    "print(r)"
   ]
  },
  {
   "cell_type": "markdown",
   "metadata": {},
   "source": [
    "Maximum Number Of Handshakes"
   ]
  },
  {
   "cell_type": "code",
   "execution_count": null,
   "metadata": {},
   "outputs": [
    {
     "name": "stdout",
     "output_type": "stream",
     "text": [
      "435\n"
     ]
    }
   ],
   "source": [
    "people = 30\n",
    "\n",
    "no_of_handshakes = int(people * ((people-1)/2))\n",
    "\n",
    "print(no_of_handshakes)"
   ]
  },
  {
   "cell_type": "markdown",
   "metadata": {},
   "source": [
    "Replace 0s and 1s"
   ]
  },
  {
   "cell_type": "code",
   "execution_count": null,
   "metadata": {},
   "outputs": [
    {
     "name": "stdout",
     "output_type": "stream",
     "text": [
      "11213141\n"
     ]
    }
   ],
   "source": [
    "def replace(num):\n",
    "\n",
    "    result = 0\n",
    "\n",
    "    place = 1\n",
    "\n",
    "    while num>0:\n",
    "\n",
    "        last = num%10\n",
    "\n",
    "        if last == 0:\n",
    "            last = 1\n",
    "\n",
    "        result = result + last* place\n",
    "\n",
    "        place = place*10\n",
    "\n",
    "        num = num//10\n",
    "\n",
    "    return result \n",
    "\n",
    "number = 10203040\n",
    "modified_number = replace(number)\n",
    "print(modified_number)\n"
   ]
  },
  {
   "cell_type": "markdown",
   "metadata": {},
   "source": [
    "number = sum of 2 primes?"
   ]
  },
  {
   "cell_type": "code",
   "execution_count": 38,
   "metadata": {},
   "outputs": [
    {
     "name": "stdout",
     "output_type": "stream",
     "text": [
      "Prime numbers that sum up to 15: [2, 13]\n"
     ]
    }
   ],
   "source": [
    "def sieve_of_eratosthenes(n):\n",
    "    \n",
    "    prime = [True] * (n+1)\n",
    "    p = 2\n",
    "    while (p * p <= n):\n",
    "\n",
    "        if (prime[p] == True):\n",
    "\n",
    "            for i in range(p * p, n+1, p):\n",
    "\n",
    "                prime[i] = False\n",
    "        p += 1\n",
    "    \n",
    "    primes = [p for p in range(2, n+1) if prime[p]]\n",
    "    \n",
    "    return primes\n",
    "\n",
    "\n",
    "def two_sum(target):\n",
    "\n",
    "    nums = set(sieve_of_eratosthenes(target))\n",
    "\n",
    "    for num in nums:\n",
    "\n",
    "        remain = target - num\n",
    "\n",
    "        if remain in nums:\n",
    "\n",
    "            return [num, remain]\n",
    "        \n",
    "    return None\n",
    "\n",
    "target = 15\n",
    "\n",
    "result = two_sum(target)\n",
    "\n",
    "if result:\n",
    "    print(f\"Prime numbers that sum up to {target}: {result}\")\n",
    "else:\n",
    "    print(f\"No prime numbers found that sum up to {target}\")"
   ]
  },
  {
   "cell_type": "markdown",
   "metadata": {},
   "source": [
    "counts the number of possible decodings"
   ]
  },
  {
   "cell_type": "code",
   "execution_count": 39,
   "metadata": {},
   "outputs": [
    {
     "name": "stdout",
     "output_type": "stream",
     "text": [
      "Possible count of decodings for 131 : 2\n"
     ]
    }
   ],
   "source": [
    "def count_decodings(digits):\n",
    "    \n",
    "    n = len(digits)\n",
    "    \n",
    "    # Edge case: if the string is empty, there are no decodings\n",
    "    if n == 0:\n",
    "        return 0\n",
    "    \n",
    "    # Initialize a DP array to store the number of ways to decode substrings\n",
    "    dp = [0] * (n + 1)\n",
    "    \n",
    "    # Base case initialization\n",
    "    dp[0] = 1  # There's one way to decode an empty string\n",
    "    dp[1] = 1 if digits[0] != '0' else 0  # There's one way to decode a string of length 1\n",
    "    \n",
    "    # Fill the DP array from dp[2] to dp[n]\n",
    "    for i in range(2, n + 1):\n",
    "        # One-digit decode\n",
    "        one_digit = int(digits[i - 1])\n",
    "                        \n",
    "        if 1 <= one_digit <= 9:\n",
    "\n",
    "            dp[i] = dp[i] + dp[i - 1]\n",
    "        \n",
    "        # Two-digit decode\n",
    "        two_digit = int(digits[i - 2:i])\n",
    "\n",
    "        if 10 <= two_digit <= 26:\n",
    "\n",
    "            dp[i] = dp[i] + dp[i - 2]\n",
    "    \n",
    "    return dp[n]\n",
    "\n",
    "digits = \"131\"\n",
    "print(\"Possible count of decodings for\", digits, \":\", count_decodings(digits))\n"
   ]
  },
  {
   "cell_type": "markdown",
   "metadata": {},
   "source": [
    "Area of a circle"
   ]
  },
  {
   "cell_type": "code",
   "execution_count": 40,
   "metadata": {},
   "outputs": [
    {
     "name": "stdout",
     "output_type": "stream",
     "text": [
      "28.274333882308138\n"
     ]
    }
   ],
   "source": [
    "from math import pi\n",
    "\n",
    "def area(r):\n",
    "\n",
    "    area = pi*r*r\n",
    "\n",
    "    return area\n",
    "print(area(3))"
   ]
  },
  {
   "cell_type": "markdown",
   "metadata": {},
   "source": [
    "Prime number between 1 to 100"
   ]
  },
  {
   "cell_type": "code",
   "execution_count": 41,
   "metadata": {},
   "outputs": [
    {
     "name": "stdout",
     "output_type": "stream",
     "text": [
      "[2, 3, 5, 7, 11, 13, 17, 19, 23, 29, 31, 37, 41, 43, 47, 53, 59, 61, 67, 71, 73, 79, 83, 89, 97]\n"
     ]
    }
   ],
   "source": [
    "def primes_upto(n):\n",
    "\n",
    "    prime = [True]*(n+1)\n",
    "    p = 2\n",
    "\n",
    "    while (p*p <=n):\n",
    "\n",
    "        if (prime[p] == True):\n",
    "\n",
    "            for i in range(p*p, n+1, p):\n",
    "\n",
    "                prime[i] = False\n",
    "        p = p +1\n",
    "\n",
    "    primes = [p for p in range(2, n+1) if prime[p]]\n",
    "    return primes\n",
    "\n",
    "print(primes_upto(100))"
   ]
  },
  {
   "cell_type": "markdown",
   "metadata": {},
   "source": [
    "Count digits in number"
   ]
  },
  {
   "cell_type": "code",
   "execution_count": 42,
   "metadata": {},
   "outputs": [
    {
     "name": "stdout",
     "output_type": "stream",
     "text": [
      "5\n"
     ]
    }
   ],
   "source": [
    "def countd(n):\n",
    "\n",
    "    count = 0\n",
    "\n",
    "    while n != 0:\n",
    "\n",
    "        n = n//10\n",
    "\n",
    "        count = count +1\n",
    "\n",
    "    return count\n",
    "\n",
    "print(countd(72469))"
   ]
  },
  {
   "cell_type": "markdown",
   "metadata": {},
   "source": [
    "Number of days in month"
   ]
  },
  {
   "cell_type": "code",
   "execution_count": 43,
   "metadata": {},
   "outputs": [
    {
     "name": "stdout",
     "output_type": "stream",
     "text": [
      "Number of days is  31\n"
     ]
    }
   ],
   "source": [
    "arr = [31, 28, 31, 30, 31, 30, 31, 31, 30, 31, 30, 31]\n",
    "\n",
    "month = 12\n",
    "year = 2012\n",
    "\n",
    "if(month==2 and ((year%400==0) or ((year%100!=0) and (year%4==0)))) :\n",
    "    print(\"Number of days is \", arr[month-1]+1)\n",
    "else :\n",
    "    print(\"Number of days is \", arr[month-1])"
   ]
  },
  {
   "cell_type": "markdown",
   "metadata": {},
   "source": [
    "count the Occurrence of a Digit in number"
   ]
  },
  {
   "cell_type": "code",
   "execution_count": 44,
   "metadata": {},
   "outputs": [
    {
     "name": "stdout",
     "output_type": "stream",
     "text": [
      "2\n"
     ]
    }
   ],
   "source": [
    "def countO(n, d):\n",
    "\n",
    "    count = 0\n",
    "\n",
    "    while n>0:\n",
    "\n",
    "        last = n%10 \n",
    "\n",
    "        if last == d:\n",
    "\n",
    "            count += 1\n",
    "\n",
    "        n = n//10\n",
    "        \n",
    "    return count\n",
    "\n",
    "print(countO(6972469, 9))"
   ]
  },
  {
   "cell_type": "markdown",
   "metadata": {},
   "source": [
    "find roots of a quadratic equation"
   ]
  },
  {
   "cell_type": "code",
   "execution_count": 45,
   "metadata": {},
   "outputs": [
    {
     "name": "stdout",
     "output_type": "stream",
     "text": [
      "Roots are real and same\n",
      "-2.0\n"
     ]
    }
   ],
   "source": [
    "import math\n",
    " \n",
    "def roots(a, b, c):\n",
    " \n",
    "    if a == 0:\n",
    "        \n",
    "        return -1\n",
    "        \n",
    "    d = b * b - 4 * a * c\n",
    "\n",
    "    sqrt_val = math.sqrt(abs(d))\n",
    " \n",
    "    if d > 0:\n",
    "\n",
    "        print(\"Roots are real and different \")\n",
    "        print((-b + sqrt_val)/(2 * a))\n",
    "        print((-b - sqrt_val)/(2 * a))\n",
    "\n",
    "    elif d == 0:\n",
    "\n",
    "        print(\"Roots are real and same\")\n",
    "        print(-b / (2*a))\n",
    "\n",
    "    else:  # d<0\n",
    "\n",
    "        print(\"Roots are complex\")\n",
    "        print(- b / (2*a), \" + i\", sqrt_val)\n",
    "        print(- b / (2*a), \" - i\", sqrt_val)\n",
    " \n",
    "roots(1,4,4)"
   ]
  },
  {
   "cell_type": "markdown",
   "metadata": {},
   "source": [
    "Recursion"
   ]
  },
  {
   "cell_type": "markdown",
   "metadata": {},
   "source": [
    "Power of a Number"
   ]
  },
  {
   "cell_type": "code",
   "execution_count": 46,
   "metadata": {},
   "outputs": [
    {
     "name": "stdout",
     "output_type": "stream",
     "text": [
      "8\n"
     ]
    }
   ],
   "source": [
    "def power(n, p):\n",
    "\n",
    "    if p != 0:\n",
    "\n",
    "        return n* power(n, p-1)\n",
    "    else:\n",
    "        return 1\n",
    "    \n",
    "print(power(2,3))"
   ]
  },
  {
   "cell_type": "markdown",
   "metadata": {},
   "source": [
    "Prime Number"
   ]
  },
  {
   "cell_type": "code",
   "execution_count": 47,
   "metadata": {},
   "outputs": [
    {
     "name": "stdout",
     "output_type": "stream",
     "text": [
      "True\n"
     ]
    }
   ],
   "source": [
    "import math\n",
    "\n",
    "def is_prime(n, divisor=2):\n",
    "\n",
    "    if n <= 1:\n",
    "\n",
    "        return False\n",
    "    \n",
    "    if divisor > math.isqrt(n): \n",
    "\n",
    "        return True\n",
    "    \n",
    "    if n % divisor == 0:\n",
    "\n",
    "        return False\n",
    "    \n",
    "    return is_prime(n, divisor + 1)\n",
    "\n",
    "print(is_prime(17))"
   ]
  },
  {
   "cell_type": "markdown",
   "metadata": {},
   "source": [
    "Largest Element in an Array"
   ]
  },
  {
   "cell_type": "code",
   "execution_count": 48,
   "metadata": {},
   "outputs": [
    {
     "name": "stdout",
     "output_type": "stream",
     "text": [
      "99\n"
     ]
    }
   ],
   "source": [
    "def find_largest(arr, n):\n",
    "    \n",
    "    if n == 1:\n",
    "        return arr[0]\n",
    "    \n",
    "    \n",
    "    max_rest = find_largest(arr, n - 1)\n",
    "    \n",
    "    \n",
    "    if max_rest > arr[n - 1]:\n",
    "\n",
    "        return max_rest\n",
    "    \n",
    "    else:\n",
    "        return arr[n - 1]\n",
    "\n",
    "print(find_largest([1,2,4,5,7,99],6))"
   ]
  },
  {
   "cell_type": "markdown",
   "metadata": {},
   "source": [
    "Smallest Element in an Array "
   ]
  },
  {
   "cell_type": "code",
   "execution_count": 49,
   "metadata": {},
   "outputs": [
    {
     "name": "stdout",
     "output_type": "stream",
     "text": [
      "1\n"
     ]
    }
   ],
   "source": [
    "def find_smallest(arr, n):\n",
    "    if n == 1:\n",
    "        return arr[0]\n",
    "    \n",
    "    min_rest = find_smallest(arr, n - 1)\n",
    "    \n",
    "    if min_rest < arr[n - 1]:\n",
    "        return min_rest\n",
    "    else:\n",
    "        return arr[n - 1]\n",
    "\n",
    "print(find_smallest([1, 2, 4, 5, 7, 99], 6))"
   ]
  },
  {
   "cell_type": "markdown",
   "metadata": {},
   "source": [
    "Reversing a Number"
   ]
  },
  {
   "cell_type": "code",
   "execution_count": 50,
   "metadata": {},
   "outputs": [
    {
     "name": "stdout",
     "output_type": "stream",
     "text": [
      "687\n"
     ]
    }
   ],
   "source": [
    "def reverse_number(n):\n",
    "\n",
    "    if n < 10:\n",
    "        return n\n",
    "    \n",
    "  \n",
    "    last_digit = n % 10\n",
    "    \n",
    "   \n",
    "    reversed_part = reverse_number(n // 10)\n",
    "    \n",
    "   \n",
    "    reversed_number = int(str(last_digit) + str(reversed_part))\n",
    "    \n",
    "    return reversed_number\n",
    "\n",
    "print(reverse_number(786))"
   ]
  },
  {
   "cell_type": "markdown",
   "metadata": {},
   "source": [
    "HCF"
   ]
  },
  {
   "cell_type": "code",
   "execution_count": 51,
   "metadata": {},
   "outputs": [
    {
     "name": "stdout",
     "output_type": "stream",
     "text": [
      "6\n"
     ]
    }
   ],
   "source": [
    "def hcf(a, b):\n",
    "\n",
    "    if b == 0:\n",
    "\n",
    "        return a\n",
    "    \n",
    "    else:\n",
    "        return hcf(b, a % b)\n",
    "\n",
    "print(hcf(6,12))\n"
   ]
  },
  {
   "cell_type": "markdown",
   "metadata": {},
   "source": [
    "LCM"
   ]
  },
  {
   "cell_type": "code",
   "execution_count": 52,
   "metadata": {},
   "outputs": [
    {
     "name": "stdout",
     "output_type": "stream",
     "text": [
      "12\n"
     ]
    }
   ],
   "source": [
    "def lcm(a, b):\n",
    "    \n",
    "    return (a * b) // hcf(a, b)\n",
    "\n",
    "print(lcm(6,12))"
   ]
  },
  {
   "cell_type": "markdown",
   "metadata": {},
   "source": [
    "length of string"
   ]
  },
  {
   "cell_type": "code",
   "execution_count": 53,
   "metadata": {},
   "outputs": [
    {
     "name": "stdout",
     "output_type": "stream",
     "text": [
      "5\n"
     ]
    }
   ],
   "source": [
    "def length(s):\n",
    "\n",
    "    if s == '':\n",
    "\n",
    "        return 0\n",
    "    return 1 + length(s[1:])\n",
    "\n",
    "print(length('honey'))"
   ]
  },
  {
   "attachments": {
    "image.png": {
     "image/png": "[encoded data removed]"
    }
   },
   "cell_type": "markdown",
   "metadata": {},
   "source": [
    "Print All Permutations of a String\n",
    "\n",
    "![image.png](attachment:image.png)"
   ]
  },
  {
   "cell_type": "code",
   "execution_count": 54,
   "metadata": {},
   "outputs": [
    {
     "name": "stdout",
     "output_type": "stream",
     "text": [
      "ABC\n",
      "ACB\n",
      "BAC\n",
      "BCA\n",
      "CBA\n",
      "CAB\n"
     ]
    }
   ],
   "source": [
    "def permute(s, i, length):\n",
    "\n",
    "    if i == length:\n",
    "\n",
    "        print(''.join(s))\n",
    "    \n",
    "    else:\n",
    "\n",
    "        for j in range(i, length):\n",
    "\n",
    "            s[i] , s[j] = s[j] , s[i]\n",
    "\n",
    "            permute(s, i+1, length)\n",
    "\n",
    "            s[i] , s[j] = s[j] , s[i]\n",
    "\n",
    "\n",
    "s = 'ABC'\n",
    "s = list(s)\n",
    "permute(s,0, len(s))"
   ]
  },
  {
   "cell_type": "markdown",
   "metadata": {},
   "source": [
    "Solving f(n)= (1) + (2x3) + (4x5x6) … n using Recursion\n",
    "\n",
    "exampl = Input : 2\n",
    "Output: 7\n",
    "Series: (1) + (2*3)"
   ]
  },
  {
   "cell_type": "code",
   "execution_count": 55,
   "metadata": {},
   "outputs": [
    {
     "name": "stdout",
     "output_type": "stream",
     "text": [
      "127\n"
     ]
    }
   ],
   "source": [
    "def seriesSum(calculated, current, N): \n",
    " \n",
    "    i = calculated; \n",
    "    cur = 1;\n",
    " \n",
    "    \n",
    "    if current == N + 1:\n",
    "        return 0;\n",
    " \n",
    "   \n",
    "    while (i < calculated + current):\n",
    "        cur *= i;\n",
    "        i += 1;\n",
    " \n",
    "    \n",
    "    return cur + seriesSum(i, current + 1, N);\n",
    " \n",
    "N = 3; \n",
    " \n",
    "print(seriesSum(1, 1, N)); "
   ]
  },
  {
   "cell_type": "markdown",
   "metadata": {},
   "source": [
    "Print sums of all subsets of a given set"
   ]
  },
  {
   "cell_type": "code",
   "execution_count": 56,
   "metadata": {},
   "outputs": [
    {
     "name": "stdout",
     "output_type": "stream",
     "text": [
      "12 9 8 5 7 4 3 0 "
     ]
    }
   ],
   "source": [
    "def subsetSums(arr, l, r, sum =0):\n",
    "\n",
    "    if l>r:\n",
    "\n",
    "        print(sum, end=' ')\n",
    "\n",
    "        return\n",
    "    \n",
    "    subsetSums(arr, l+1, r, sum + arr[l])\n",
    "\n",
    "    subsetSums(arr, l + 1, r, sum)\n",
    "\n",
    "arr = [5,4,3]\n",
    "\n",
    "n = len(arr)\n",
    "\n",
    "subsetSums(arr, 0, n-1)"
   ]
  },
  {
   "cell_type": "markdown",
   "metadata": {},
   "source": [
    "Last non-zero digit in factorial"
   ]
  },
  {
   "cell_type": "code",
   "execution_count": 57,
   "metadata": {},
   "outputs": [],
   "source": [
    "#values of last non-zero digit of facts of numbers from 0 to 9\n",
    "\n",
    "nums = [1,1,2,6,4,2,2,4,2,8]\n",
    "\n",
    "def lastNon0(n):\n",
    "\n",
    "    if n <10:\n",
    "\n",
    "        return nums[n]\n",
    "    \n",
    "     # Check whether tens (or second last) digit is odd or even\n",
    "     \n",
    "    if (((n//10)% 10)%2 == 0):\n",
    "\n",
    "        return (6 * lastNon0(n//5)* nums[n%10] %10)\n",
    "    \n",
    "    else:\n",
    "\n",
    "        return (4 * lastNon0(n//5)* nums[n%10] %10)"
   ]
  },
  {
   "cell_type": "markdown",
   "metadata": {},
   "source": [
    "return the Nth row of pascal’s triangle"
   ]
  },
  {
   "cell_type": "code",
   "execution_count": 58,
   "metadata": {},
   "outputs": [
    {
     "name": "stdout",
     "output_type": "stream",
     "text": [
      "1 , 5, 10, 10, 5, 1"
     ]
    }
   ],
   "source": [
    "def nthROw(n):\n",
    "\n",
    "    prev = 1\n",
    "\n",
    "    print(prev, end = ' ')\n",
    "\n",
    "    for i in range(1,n+1):\n",
    "\n",
    "        curr = (prev * (n-i+1)) // i\n",
    "\n",
    "        print(\",\", curr, end = '')\n",
    "\n",
    "        prev = curr\n",
    "\n",
    "nthROw(5)\n"
   ]
  },
  {
   "cell_type": "markdown",
   "metadata": {},
   "source": [
    "Generate all Combinations of Balanced Parentheses"
   ]
  },
  {
   "cell_type": "code",
   "execution_count": 59,
   "metadata": {},
   "outputs": [
    {
     "name": "stdout",
     "output_type": "stream",
     "text": [
      "['{{}}', '{}{}']\n"
     ]
    }
   ],
   "source": [
    "def generate(left, right, s, answer):\n",
    "\n",
    "\tif left == 0 and right == 0:\n",
    "\t\t\n",
    "\t\tanswer.append(s)\n",
    "\t\t\n",
    "\tif left > right or left < 0 or right < 0:\n",
    "\t\t\n",
    "\t\treturn\n",
    "\t\n",
    "\ts = s + '{'\n",
    "\tgenerate(left - 1, right, s, answer)\n",
    "\ts = s[:-1]\n",
    "\t\n",
    "\n",
    "\ts = s + '}'\n",
    "\tgenerate(left, right - 1, s, answer)\n",
    "\ts = s[:-1]\n",
    "\n",
    "n = 2\n",
    "ans = []\n",
    "s = \"\"\n",
    "\n",
    "generate(n, n, s, ans)\n",
    "\n",
    "print(ans)"
   ]
  },
  {
   "cell_type": "markdown",
   "metadata": {},
   "source": [
    "Factorial using recursion"
   ]
  },
  {
   "cell_type": "code",
   "execution_count": 60,
   "metadata": {},
   "outputs": [
    {
     "name": "stdout",
     "output_type": "stream",
     "text": [
      "120\n"
     ]
    }
   ],
   "source": [
    "def fact(n):\n",
    "\n",
    "    if n == 0 or n == 1:\n",
    "        return 1\n",
    "    \n",
    "    return n * fact(n-1)\n",
    "\n",
    "print(fact(5))"
   ]
  },
  {
   "cell_type": "markdown",
   "metadata": {},
   "source": [
    "Find all possible Palindromic partitions of the given String"
   ]
  },
  {
   "cell_type": "code",
   "execution_count": 61,
   "metadata": {},
   "outputs": [
    {
     "name": "stdout",
     "output_type": "stream",
     "text": [
      "[['a', 'j', 'e', 'e', 't'], ['a', 'j', 'ee', 't']]\n"
     ]
    }
   ],
   "source": [
    "def partition(s):\n",
    "\n",
    "    def is_palin(substr):\n",
    "\n",
    "        return substr == substr[::-1]\n",
    "    \n",
    "    \n",
    "    def backtrack(start, currnet_part):\n",
    "\n",
    "        if len(s) == start:\n",
    "\n",
    "            result.append(currnet_part[:])\n",
    "\n",
    "            return \n",
    "        \n",
    "        for i in range(start, len(s)):\n",
    "\n",
    "            sub = s[start:i+1]\n",
    "\n",
    "            if is_palin(sub):\n",
    "\n",
    "                currnet_part.append(sub)\n",
    "\n",
    "                backtrack(i+1, currnet_part)\n",
    "\n",
    "                currnet_part.pop()\n",
    "\n",
    "    result = []\n",
    "\n",
    "    backtrack(0,[])\n",
    "\n",
    "    return result\n",
    "\n",
    "s = \"ajeet\"\n",
    "result = partition(s)\n",
    "print(result)"
   ]
  },
  {
   "cell_type": "markdown",
   "metadata": {},
   "source": [
    "print N-bit binary numbers having more 1’s than 0’s in all prefixes"
   ]
  },
  {
   "cell_type": "code",
   "execution_count": 62,
   "metadata": {},
   "outputs": [
    {
     "name": "stdout",
     "output_type": "stream",
     "text": [
      "['1111', '1110', '1101', '1100', '1011', '1010']\n"
     ]
    }
   ],
   "source": [
    "def generate_valid_bins(n):\n",
    "    def backtrack(current, count_1, count_0):\n",
    "        if len(current) == n:\n",
    "            result.append(current)\n",
    "            return\n",
    "        \n",
    "        if count_1 >= count_0:\n",
    "            backtrack(current + '1', count_1 + 1, count_0)\n",
    "        \n",
    "        if count_1 >= count_0:\n",
    "            backtrack(current + '0', count_1, count_0 + 1)\n",
    "    \n",
    "    result = []\n",
    "    backtrack('', 0, 0)\n",
    "    return result\n",
    "\n",
    "print(generate_valid_bins(4))\n"
   ]
  },
  {
   "cell_type": "markdown",
   "metadata": {},
   "source": [
    "find all subsets"
   ]
  },
  {
   "cell_type": "code",
   "execution_count": 63,
   "metadata": {},
   "outputs": [
    {
     "name": "stdout",
     "output_type": "stream",
     "text": [
      "[[], [1], [1, 2], [1, 2, 3], [1, 3], [2], [2, 3], [3]]\n"
     ]
    }
   ],
   "source": [
    "def find_subsets(nums):\n",
    "\n",
    "    def backtrack(start, current_subset):\n",
    "        \n",
    "        result.append(current_subset[:])\n",
    "        \n",
    "       \n",
    "        for i in range(start, len(nums)):\n",
    "            \n",
    "            current_subset.append(nums[i])\n",
    "            \n",
    "            backtrack(i + 1, current_subset)\n",
    "            \n",
    "            current_subset.pop()\n",
    "    \n",
    "    result = []\n",
    "\n",
    "    backtrack(0, [])\n",
    "\n",
    "    return result\n",
    "\n",
    "\n",
    "nums = [1, 2, 3]\n",
    "result = find_subsets(nums)\n",
    "print(result)\n"
   ]
  },
  {
   "cell_type": "markdown",
   "metadata": {},
   "source": [
    "remove all its adjacent duplicate characters "
   ]
  },
  {
   "cell_type": "code",
   "execution_count": 64,
   "metadata": {},
   "outputs": [
    {
     "name": "stdout",
     "output_type": "stream",
     "text": [
      "ajt\n"
     ]
    }
   ],
   "source": [
    "def remove_adj_dup(s):\n",
    "\n",
    "    stack = []\n",
    "\n",
    "    for char in s:\n",
    "\n",
    "        if stack and stack[-1] == char:\n",
    "\n",
    "            stack.pop()\n",
    "\n",
    "        else:\n",
    "\n",
    "            stack.append(char)\n",
    "\n",
    "    return ''.join(stack)\n",
    "\n",
    "s = \"ajeet\"\n",
    "\n",
    "result = remove_adj_dup(s)\n",
    "\n",
    "print(result)"
   ]
  },
  {
   "cell_type": "markdown",
   "metadata": {},
   "source": [
    "ARRAYS 1"
   ]
  },
  {
   "cell_type": "markdown",
   "metadata": {},
   "source": [
    "find largest in array"
   ]
  },
  {
   "cell_type": "code",
   "execution_count": 65,
   "metadata": {},
   "outputs": [
    {
     "name": "stdout",
     "output_type": "stream",
     "text": [
      "8\n"
     ]
    }
   ],
   "source": [
    "def largest_in(arr):\n",
    "\n",
    "    largest = arr[0]\n",
    "\n",
    "    for i in arr:\n",
    "\n",
    "        if i > largest:\n",
    "\n",
    "            largest = i\n",
    "    \n",
    "    return largest\n",
    "\n",
    "print(largest_in([2,7,8,3,4,6,2]))"
   ]
  },
  {
   "cell_type": "markdown",
   "metadata": {},
   "source": [
    "find smallest in array"
   ]
  },
  {
   "cell_type": "code",
   "execution_count": 66,
   "metadata": {},
   "outputs": [
    {
     "name": "stdout",
     "output_type": "stream",
     "text": [
      "2\n"
     ]
    }
   ],
   "source": [
    "def smallest_in(arr):\n",
    "\n",
    "    smallest = arr[0]\n",
    "\n",
    "    for i in arr:\n",
    "\n",
    "        if i < smallest:\n",
    "\n",
    "            smallest = i\n",
    "            \n",
    "    return smallest\n",
    "        \n",
    "print(smallest_in([2,7,8,3,4,6,2]))"
   ]
  },
  {
   "cell_type": "markdown",
   "metadata": {},
   "source": [
    "find largest and smallest in array"
   ]
  },
  {
   "cell_type": "code",
   "execution_count": 67,
   "metadata": {},
   "outputs": [
    {
     "name": "stdout",
     "output_type": "stream",
     "text": [
      "(2, 8)\n"
     ]
    }
   ],
   "source": [
    "def both(arr):\n",
    "\n",
    "    min = arr[0]\n",
    "    max = arr[0]\n",
    "\n",
    "    for i in arr:\n",
    "\n",
    "        if i > max:\n",
    "\n",
    "            max = i\n",
    "        \n",
    "        elif i < min:\n",
    "\n",
    "            min = i\n",
    "\n",
    "    return min, max\n",
    "\n",
    "print(both([2,7,8,3,4,6,2]))"
   ]
  },
  {
   "cell_type": "markdown",
   "metadata": {},
   "source": [
    "second max in array"
   ]
  },
  {
   "cell_type": "code",
   "execution_count": 68,
   "metadata": {},
   "outputs": [
    {
     "name": "stdout",
     "output_type": "stream",
     "text": [
      "7\n"
     ]
    }
   ],
   "source": [
    "def second_max(arr):\n",
    "\n",
    "    first = second = float('-inf')\n",
    "\n",
    "    for i in arr:\n",
    "\n",
    "        if i > first:\n",
    "\n",
    "            second = first\n",
    "            first = i\n",
    "\n",
    "        elif i > second and i != first:\n",
    "\n",
    "            second = i\n",
    "\n",
    "    return second\n",
    "\n",
    "print(second_max([2,7,8,3,4,6,2]))"
   ]
  },
  {
   "cell_type": "markdown",
   "metadata": {},
   "source": [
    "sum of array"
   ]
  },
  {
   "cell_type": "code",
   "execution_count": 69,
   "metadata": {},
   "outputs": [
    {
     "name": "stdout",
     "output_type": "stream",
     "text": [
      "15\n"
     ]
    }
   ],
   "source": [
    "def sum_arr(arr):\n",
    "\n",
    "    total = 0\n",
    "\n",
    "    for i in arr:\n",
    "\n",
    "        total += i\n",
    "\n",
    "    return total\n",
    "\n",
    "print(sum_arr([1,2,3,4,5]))"
   ]
  },
  {
   "cell_type": "markdown",
   "metadata": {},
   "source": [
    "reverse array"
   ]
  },
  {
   "cell_type": "code",
   "execution_count": 70,
   "metadata": {},
   "outputs": [
    {
     "name": "stdout",
     "output_type": "stream",
     "text": [
      "[8, 7, 6, 5, 3, 2, 1]\n"
     ]
    }
   ],
   "source": [
    "def reverse_arr(arr):\n",
    "\n",
    "    l = 0\n",
    "\n",
    "    r = len(arr) - 1\n",
    "\n",
    "    while l < r:\n",
    "\n",
    "        arr[l], arr[r] = arr[r], arr[l]\n",
    "\n",
    "        l = l +1\n",
    "        r = r-1\n",
    "\n",
    "    return arr\n",
    "\n",
    "print(reverse_arr([1,2,3,5,6,7,8]))"
   ]
  },
  {
   "cell_type": "markdown",
   "metadata": {},
   "source": [
    "Sort first half in ascending order and second half in descending order in an array"
   ]
  },
  {
   "cell_type": "code",
   "execution_count": 71,
   "metadata": {},
   "outputs": [
    {
     "name": "stdout",
     "output_type": "stream",
     "text": [
      "[0, 1, 2, 3, 4, 9, 8, 7, 6, 5]\n"
     ]
    }
   ],
   "source": [
    "def sort_arr(arr):\n",
    "\n",
    "    n = len(arr)\n",
    "\n",
    "    mid = n//2\n",
    "\n",
    "    first_half = sorted(arr[:mid])\n",
    "\n",
    "    second_half = sorted(arr[mid:], reverse=True)\n",
    "\n",
    "    arr[:mid] = first_half\n",
    "    arr[mid:] = second_half\n",
    "\n",
    "    return arr\n",
    "\n",
    "print(sort_arr([0,1,2,3,4,5,6,7,8,9]))"
   ]
  },
  {
   "cell_type": "markdown",
   "metadata": {},
   "source": [
    "Sort the array"
   ]
  },
  {
   "cell_type": "code",
   "execution_count": 75,
   "metadata": {},
   "outputs": [
    {
     "name": "stdout",
     "output_type": "stream",
     "text": [
      "[0, 1, 2, 3, 4, 8, 9, 55, 55]\n"
     ]
    }
   ],
   "source": [
    "def merge_sort(arr):\n",
    "\n",
    "    if len(arr)> 1:\n",
    "\n",
    "        mid = len(arr)//2\n",
    "\n",
    "        left_half = arr[:mid]\n",
    "        right_half = arr[mid:]\n",
    "\n",
    "        merge_sort(left_half)\n",
    "        merge_sort(right_half)\n",
    "\n",
    "        i = j = k = 0\n",
    "\n",
    "        while i < len(left_half) and j < len(right_half):\n",
    "\n",
    "            if left_half[i] < right_half[j]:\n",
    "\n",
    "                arr[k] = left_half[i]\n",
    "                i = i+1\n",
    "\n",
    "            else:\n",
    "\n",
    "                arr[k] = right_half[j]\n",
    "                j = j+1\n",
    "            \n",
    "            k = k+1\n",
    "\n",
    "        while i < len(left_half):\n",
    "\n",
    "            arr[k] = left_half[i]\n",
    "\n",
    "            i = i+1\n",
    "        \n",
    "            k = k+1\n",
    "\n",
    "        while j < len(right_half):\n",
    "\n",
    "            arr[k] = right_half[j]\n",
    "\n",
    "            j = j+1\n",
    "            k = k+1\n",
    "\n",
    "    return arr\n",
    "\n",
    "\n",
    "print(merge_sort([3,4,1,2,8,9,55,0,55]))\n",
    "        "
   ]
  },
  {
   "cell_type": "markdown",
   "metadata": {},
   "source": [
    "Find frequency of elements"
   ]
  },
  {
   "cell_type": "code",
   "execution_count": 81,
   "metadata": {},
   "outputs": [
    {
     "name": "stdout",
     "output_type": "stream",
     "text": [
      "{2: 3, 5: 1, 4: 2, 7: 1, 8: 1, 9: 1, 0: 1, 1: 1, 3: 2}\n"
     ]
    }
   ],
   "source": [
    "def freq(arr):\n",
    "\n",
    "    map = {}\n",
    "\n",
    "    for num in arr:\n",
    "\n",
    "        if num in map:\n",
    "\n",
    "            map[num] +=1\n",
    "\n",
    "        else :\n",
    "\n",
    "            map[num] =1\n",
    "\n",
    "    return map\n",
    "\n",
    "print(freq([2,2,2,5,4,7,8,9,0,1,3,3,4]))"
   ]
  },
  {
   "cell_type": "markdown",
   "metadata": {},
   "source": [
    "sorting elements of an Array by Frequency"
   ]
  },
  {
   "cell_type": "code",
   "execution_count": 92,
   "metadata": {},
   "outputs": [
    {
     "name": "stdout",
     "output_type": "stream",
     "text": [
      "[2, 2, 2, 3, 3, 4, 4, 0, 1, 5, 7, 8, 9]\n"
     ]
    }
   ],
   "source": [
    "def sort_by_frequency(arr):\n",
    "    \n",
    "    freq_map = {}\n",
    "\n",
    "    for num in arr:\n",
    "        if num in freq_map:\n",
    "            freq_map[num] += 1\n",
    "        else:\n",
    "            freq_map[num] = 1\n",
    "    \n",
    "    \n",
    "    def custom_sort_key(item):\n",
    "        return (-freq_map[item], item)\n",
    " \n",
    "    sorted_arr = sorted(arr, key=custom_sort_key)\n",
    "    \n",
    "    return sorted_arr\n",
    "\n",
    "\n",
    "print(sort_by_frequency([2, 2, 2, 5, 4, 7, 8, 9, 0, 1, 3, 3, 4]))"
   ]
  },
  {
   "cell_type": "markdown",
   "metadata": {},
   "source": [
    "largest palindrome in an array"
   ]
  },
  {
   "cell_type": "code",
   "execution_count": 99,
   "metadata": {},
   "outputs": [
    {
     "name": "stdout",
     "output_type": "stream",
     "text": [
      "5\n"
     ]
    }
   ],
   "source": [
    "def largest_pali(arr):\n",
    "\n",
    "    pal = -1\n",
    "\n",
    "    for i in arr:\n",
    "\n",
    "        if str(i) == str(i)[::-1]:\n",
    "\n",
    "            if i > pal:\n",
    "\n",
    "                pal  = i\n",
    "    return pal\n",
    "\n",
    "arr = [1, 2, 3, 4, 5, 50]\n",
    "print(largest_pali(arr))"
   ]
  },
  {
   "cell_type": "markdown",
   "metadata": {},
   "source": [
    "count distinct elemets in array"
   ]
  },
  {
   "cell_type": "code",
   "execution_count": 100,
   "metadata": {},
   "outputs": [
    {
     "name": "stdout",
     "output_type": "stream",
     "text": [
      "7\n"
     ]
    }
   ],
   "source": [
    "def count_dis(arr):\n",
    "\n",
    "    memo = {}\n",
    "\n",
    "    for num in arr:\n",
    "\n",
    "        if num in memo:\n",
    "\n",
    "            memo[num] +=1\n",
    "\n",
    "        else:\n",
    "\n",
    "            memo[num] = 1\n",
    "        \n",
    "    return len(memo)\n",
    "\n",
    "print(count_dis([1,2,3,4,2,1,5,6,7,5]))"
   ]
  },
  {
   "cell_type": "markdown",
   "metadata": {},
   "source": [
    "Finding Repeating elements in an Array"
   ]
  },
  {
   "cell_type": "code",
   "execution_count": 101,
   "metadata": {},
   "outputs": [
    {
     "name": "stdout",
     "output_type": "stream",
     "text": [
      "[1, 2, 3, 5]\n"
     ]
    }
   ],
   "source": [
    "def find_dupes(arr):\n",
    "\n",
    "    seen = set()\n",
    "\n",
    "    dupes = set()\n",
    "\n",
    "    for i in arr:\n",
    "\n",
    "        if i in seen:\n",
    "\n",
    "            dupes.add(i)\n",
    "\n",
    "        else:\n",
    "\n",
    "            seen.add(i)\n",
    "\n",
    "    return list(dupes)\n",
    "\n",
    "print(find_dupes( [1, 2, 3, 4, 2, 3, 1, 5, 6, 7, 5]))"
   ]
  },
  {
   "cell_type": "markdown",
   "metadata": {},
   "source": [
    "Finding NON Repeating elements in an Array"
   ]
  },
  {
   "cell_type": "code",
   "execution_count": 102,
   "metadata": {},
   "outputs": [
    {
     "name": "stdout",
     "output_type": "stream",
     "text": [
      "[4, 6, 7]\n"
     ]
    }
   ],
   "source": [
    "def find_uniqes(arr):\n",
    "\n",
    "    memo = {}\n",
    "\n",
    "    uniques = []\n",
    "\n",
    "    for num in arr:\n",
    "\n",
    "        if num in memo:\n",
    "            memo[num] += 1\n",
    "        else:\n",
    "            memo[num] = 1\n",
    "\n",
    "    for num, count in memo.items():\n",
    "\n",
    "        if count == 1:\n",
    "\n",
    "            uniques.append(num)\n",
    "\n",
    "    return uniques\n",
    "\n",
    "\n",
    "print(find_uniqes([1, 2, 3, 4, 2, 3, 1, 5, 6, 7, 5]))\n"
   ]
  },
  {
   "cell_type": "markdown",
   "metadata": {},
   "source": [
    "Remove dupes in array"
   ]
  },
  {
   "cell_type": "code",
   "execution_count": 103,
   "metadata": {},
   "outputs": [
    {
     "name": "stdout",
     "output_type": "stream",
     "text": [
      "[1, 2, 3, 4, 5, 6]\n"
     ]
    }
   ],
   "source": [
    "def remove_dupes(arr):\n",
    "\n",
    "    seen = set()\n",
    "\n",
    "    result = []\n",
    "\n",
    "    for i in arr:\n",
    "\n",
    "        if i not in seen:\n",
    "\n",
    "            seen.add(i)\n",
    "\n",
    "            result.append(i)\n",
    "    return result\n",
    "\n",
    "print(remove_dupes([1, 2, 3, 2, 4, 3, 5, 6, 1]))"
   ]
  },
  {
   "cell_type": "markdown",
   "metadata": {},
   "source": []
  },
  {
   "cell_type": "code",
   "execution_count": null,
   "metadata": {},
   "outputs": [],
   "source": []
  },
  {
   "cell_type": "markdown",
   "metadata": {},
   "source": []
  },
  {
   "cell_type": "code",
   "execution_count": null,
   "metadata": {},
   "outputs": [],
   "source": []
  }
 ],
 "metadata": {
  "kernelspec": {
   "display_name": ".venv",
   "language": "python",
   "name": "python3"
  },
  "language_info": {
   "codemirror_mode": {
    "name": "ipython",
    "version": 3
   },
   "file_extension": ".py",
   "mimetype": "text/x-python",
   "name": "python",
   "nbconvert_exporter": "python",
   "pygments_lexer": "ipython3",
   "version": "3.12.3"
  }
 },
 "nbformat": 4,
 "nbformat_minor": 2
}
