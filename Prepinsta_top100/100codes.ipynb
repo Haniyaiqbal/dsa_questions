{
 "cells": [
  {
   "cell_type": "markdown",
   "metadata": {},
   "source": [
    "Positive or Negative number"
   ]
  },
  {
   "cell_type": "code",
   "execution_count": 1,
   "metadata": {},
   "outputs": [
    {
     "name": "stdout",
     "output_type": "stream",
     "text": [
      "10 is Positive\n"
     ]
    }
   ],
   "source": [
    "num = 10\n",
    "if num > 0:\n",
    "    print(f\"{num} is Positive\")\n",
    "elif num < 0:\n",
    "    print(f\"{num} is Negative\")\n",
    "else:\n",
    "    print(\"Zero\")\n"
   ]
  },
  {
   "cell_type": "markdown",
   "metadata": {},
   "source": [
    "Even or Odd number"
   ]
  },
  {
   "cell_type": "code",
   "execution_count": 2,
   "metadata": {},
   "outputs": [
    {
     "name": "stdout",
     "output_type": "stream",
     "text": [
      "7 is Odd\n"
     ]
    }
   ],
   "source": [
    "num = 7\n",
    "if num % 2 == 0:\n",
    "    print(f\"{num} is Even\")\n",
    "else:\n",
    "    print(f\"{num} is Odd\")\n"
   ]
  },
  {
   "cell_type": "markdown",
   "metadata": {},
   "source": [
    "Sum of First N Natural numbers"
   ]
  },
  {
   "cell_type": "code",
   "execution_count": 3,
   "metadata": {},
   "outputs": [
    {
     "name": "stdout",
     "output_type": "stream",
     "text": [
      "Sum of first 10 natural numbers is 55\n"
     ]
    }
   ],
   "source": [
    "n = 10\n",
    "sum_first_n = n * (n + 1) // 2\n",
    "print(f\"Sum of first {n} natural numbers is {sum_first_n}\")\n"
   ]
  },
  {
   "cell_type": "markdown",
   "metadata": {},
   "source": [
    "Sum of numbers in a given range"
   ]
  },
  {
   "cell_type": "code",
   "execution_count": 4,
   "metadata": {},
   "outputs": [
    {
     "name": "stdout",
     "output_type": "stream",
     "text": [
      "Sum of numbers from 1 to 10 is 55\n"
     ]
    }
   ],
   "source": [
    "start = 1\n",
    "end = 10\n",
    "sum_range = sum(range(start, end + 1))\n",
    "print(f\"Sum of numbers from {start} to {end} is {sum_range}\")\n"
   ]
  },
  {
   "cell_type": "markdown",
   "metadata": {},
   "source": [
    "Greatest of two numbers"
   ]
  },
  {
   "cell_type": "code",
   "execution_count": 5,
   "metadata": {},
   "outputs": [
    {
     "name": "stdout",
     "output_type": "stream",
     "text": [
      "The greatest of 10 and 20 is 20\n"
     ]
    }
   ],
   "source": [
    "num1 = 10\n",
    "num2 = 20\n",
    "greatest = num1 if num1 > num2 else num2\n",
    "print(f\"The greatest of {num1} and {num2} is {greatest}\")\n"
   ]
  },
  {
   "cell_type": "markdown",
   "metadata": {},
   "source": [
    "Greatest of the Three numbers"
   ]
  },
  {
   "cell_type": "code",
   "execution_count": 6,
   "metadata": {},
   "outputs": [
    {
     "name": "stdout",
     "output_type": "stream",
     "text": [
      "The greatest of 10, 20, and 15 is 20\n"
     ]
    }
   ],
   "source": [
    "num1 = 10\n",
    "num2 = 20\n",
    "num3 = 15\n",
    "greatest = max(num1, num2, num3)\n",
    "print(f\"The greatest of {num1}, {num2}, and {num3} is {greatest}\")\n"
   ]
  },
  {
   "cell_type": "markdown",
   "metadata": {},
   "source": [
    "Leap year or not"
   ]
  },
  {
   "cell_type": "code",
   "execution_count": 9,
   "metadata": {},
   "outputs": [
    {
     "name": "stdout",
     "output_type": "stream",
     "text": [
      "2019 is not a leap year\n"
     ]
    }
   ],
   "source": [
    "year = 2019\n",
    "\n",
    "if (year%4==0 and year%100 != 0) or (year %400 ==0):\n",
    "     print(f\"{year} is a leap year\")\n",
    "else:\n",
    "    print(f\"{year} is not a leap year\")"
   ]
  },
  {
   "cell_type": "markdown",
   "metadata": {},
   "source": [
    "Prime numbe"
   ]
  },
  {
   "cell_type": "code",
   "execution_count": 16,
   "metadata": {},
   "outputs": [
    {
     "name": "stdout",
     "output_type": "stream",
     "text": [
      "5 is a prime number\n"
     ]
    }
   ],
   "source": [
    "n = 5\n",
    "\n",
    "if n > 1:\n",
    "    for i in range(2, int(pow(n, 0.5)) + 1):\n",
    "        if n % i == 0:\n",
    "            print(f\"{n} is not a prime number\")\n",
    "            break\n",
    "    else:\n",
    "        print(f\"{n} is a prime number\")\n",
    "else:\n",
    "    print(f\"{n} is not a prime number\")\n"
   ]
  },
  {
   "cell_type": "markdown",
   "metadata": {},
   "source": [
    "Prime number within a given range"
   ]
  },
  {
   "cell_type": "code",
   "execution_count": 20,
   "metadata": {},
   "outputs": [
    {
     "name": "stdout",
     "output_type": "stream",
     "text": [
      "Prime numbers between 10 and 50 are: [11, 13, 17, 19, 23, 29, 31, 37, 41, 43, 47]\n"
     ]
    }
   ],
   "source": [
    "start = 10\n",
    "end = 50\n",
    "prime_numbers = []\n",
    "\n",
    "for num in range(start, end + 1):\n",
    "    if num > 1:\n",
    "        is_prime = True\n",
    "        for i in range(2, int(pow(num, 0.5)) + 1):\n",
    "            if num % i == 0:\n",
    "                is_prime = False\n",
    "                break\n",
    "        if is_prime:\n",
    "            prime_numbers.append(num)\n",
    "\n",
    "print(f\"Prime numbers between {start} and {end} are: {prime_numbers}\")\n"
   ]
  },
  {
   "cell_type": "markdown",
   "metadata": {},
   "source": [
    "Sum of digits of a number"
   ]
  },
  {
   "cell_type": "code",
   "execution_count": 11,
   "metadata": {},
   "outputs": [
    {
     "name": "stdout",
     "output_type": "stream",
     "text": [
      "13\n",
      "13\n"
     ]
    }
   ],
   "source": [
    "num = 724\n",
    "num2 = 724\n",
    "sum = 0\n",
    "\n",
    "while num!=0:\n",
    "\n",
    "    last = int(num%10)\n",
    "\n",
    "    sum = sum+last\n",
    "\n",
    "    num = num//10\n",
    "\n",
    "print(sum)\n",
    "\n",
    "#using recursion\n",
    "\n",
    "def dsum(num2):\n",
    "\n",
    "    if num2 ==0:\n",
    "        return 0\n",
    "    \n",
    "    return int(num2%10)+ dsum(num2//10)\n",
    "\n",
    "print(dsum(num2))"
   ]
  },
  {
   "cell_type": "markdown",
   "metadata": {},
   "source": [
    "Reverse of a number"
   ]
  },
  {
   "cell_type": "code",
   "execution_count": 9,
   "metadata": {},
   "outputs": [
    {
     "name": "stdout",
     "output_type": "stream",
     "text": [
      "567\n"
     ]
    }
   ],
   "source": [
    "num = 765\n",
    "reverse = 0\n",
    "\n",
    "while num>0:\n",
    "\n",
    "    reverse = reverse*10 + num%10\n",
    "    num = num // 10\n",
    "\n",
    "print(reverse)    "
   ]
  },
  {
   "cell_type": "markdown",
   "metadata": {},
   "source": [
    "Palindrome number"
   ]
  },
  {
   "cell_type": "code",
   "execution_count": 13,
   "metadata": {},
   "outputs": [
    {
     "name": "stdout",
     "output_type": "stream",
     "text": [
      "the number is a palindrome\n"
     ]
    }
   ],
   "source": [
    "num = 767\n",
    "temp = num\n",
    "reverse = 0\n",
    "\n",
    "while temp>0:\n",
    "    reverse = reverse*10 + temp%10\n",
    "    temp = temp//10\n",
    "\n",
    "if reverse ==num:\n",
    "    print('the number is a palindrome')\n",
    "else:\n",
    "    print(f'the number is not a palindrome')"
   ]
  },
  {
   "cell_type": "markdown",
   "metadata": {},
   "source": [
    "Armstrong number"
   ]
  },
  {
   "cell_type": "code",
   "execution_count": 7,
   "metadata": {},
   "outputs": [
    {
     "name": "stdout",
     "output_type": "stream",
     "text": [
      "Number is not Armstrong\n"
     ]
    }
   ],
   "source": [
    "num = 377\n",
    "temp = num\n",
    "sum = 0\n",
    "l = len(str(num))\n",
    "\n",
    "for i in range(l):\n",
    "    last = temp%10\n",
    "    temp = temp//10\n",
    "\n",
    "    sum = sum+pow(last,l)\n",
    "\n",
    "if sum == num:\n",
    "    print('Number is Armstrong')\n",
    "else:\n",
    "    print('Number is not Armstrong')\n"
   ]
  },
  {
   "cell_type": "markdown",
   "metadata": {},
   "source": [
    "Armstrong number in a given range "
   ]
  },
  {
   "cell_type": "code",
   "execution_count": 20,
   "metadata": {},
   "outputs": [
    {
     "name": "stdout",
     "output_type": "stream",
     "text": [
      "[153, 370, 371, 407]\n"
     ]
    }
   ],
   "source": [
    "first = 150\n",
    "second = 1000\n",
    "\n",
    "result = []\n",
    "\n",
    "def isArm(val):\n",
    "    sum = 0\n",
    "\n",
    "    all_d = [int(d) for d in str(val)]\n",
    "\n",
    "    for i in range(len(all_d)):\n",
    "\n",
    "        sum += pow(all_d[i], len(all_d))\n",
    "        \n",
    "    return sum == val\n",
    "\n",
    "for i in range(first, second + 1):\n",
    "    if isArm(i):\n",
    "        result.append(i)\n",
    "\n",
    "print(result)\n"
   ]
  },
  {
   "cell_type": "markdown",
   "metadata": {},
   "source": [
    "Fibonacci Series upto nth term"
   ]
  },
  {
   "cell_type": "code",
   "execution_count": 24,
   "metadata": {},
   "outputs": [
    {
     "name": "stdout",
     "output_type": "stream",
     "text": [
      "0 1 1 2 3 5 8 13 21 34 55 89 144 233 377 "
     ]
    }
   ],
   "source": [
    "def fibseries(i):\n",
    "    if i <= 1:\n",
    "        return i\n",
    "    else:\n",
    "        return fibseries(i - 1) + fibseries(i - 2)\n",
    "n = 15\n",
    "\n",
    "for i in range(n):\n",
    "    print(fibseries(i), end=\" \")"
   ]
  },
  {
   "cell_type": "markdown",
   "metadata": {},
   "source": [
    "Find the Nth Term of the Fibonacci Series"
   ]
  },
  {
   "cell_type": "code",
   "execution_count": 6,
   "metadata": {},
   "outputs": [
    {
     "name": "stdout",
     "output_type": "stream",
     "text": [
      "5\n"
     ]
    }
   ],
   "source": [
    "def fibN(n):\n",
    "\n",
    "    if n==0:\n",
    "        return 0\n",
    "    \n",
    "    M = [[1,1],\n",
    "         [1,0]]\n",
    "    \n",
    "    M= power(M,n-1)\n",
    "\n",
    "    return M[0][0]\n",
    "\n",
    "\n",
    "def power(M,exp):\n",
    "\n",
    "    result = [[1,0],\n",
    "              [0,1]]\n",
    "    base = M\n",
    "\n",
    "    while exp>0:\n",
    "\n",
    "        if exp%2 != 0:\n",
    "            result = multiply(result,base)\n",
    "\n",
    "        base = multiply(base,base)\n",
    "        exp = exp//2\n",
    "\n",
    "    return result \n",
    "\n",
    "def multiply(A, B):\n",
    "    \"\"\"Multiplies two 2x2 matrices A and B.\"\"\"\n",
    "    return [\n",
    "        [A[0][0]*B[0][0] + A[0][1]*B[1][0], A[0][0]*B[0][1] + A[0][1]*B[1][1]],\n",
    "        [A[1][0]*B[0][0] + A[1][1]*B[1][0], A[1][0]*B[0][1] + A[1][1]*B[1][1]]\n",
    "    ]\n",
    "\n",
    "print(fibN(5))"
   ]
  },
  {
   "cell_type": "markdown",
   "metadata": {},
   "source": [
    "![alt text](<11-25-24 2024-06-22.png>)"
   ]
  },
  {
   "cell_type": "markdown",
   "metadata": {},
   "source": [
    "Factorial of a number"
   ]
  },
  {
   "cell_type": "code",
   "execution_count": 7,
   "metadata": {},
   "outputs": [
    {
     "name": "stdout",
     "output_type": "stream",
     "text": [
      "120\n"
     ]
    }
   ],
   "source": [
    "def fact(n):\n",
    "\n",
    "    if n==0:\n",
    "        return 1\n",
    "    \n",
    "    return n*fact(n-1)\n",
    "\n",
    "print(fact(5))"
   ]
  },
  {
   "cell_type": "markdown",
   "metadata": {},
   "source": [
    "Power of a number"
   ]
  },
  {
   "cell_type": "code",
   "execution_count": 9,
   "metadata": {},
   "outputs": [
    {
     "name": "stdout",
     "output_type": "stream",
     "text": [
      "25\n",
      "25\n"
     ]
    }
   ],
   "source": [
    "n = 5\n",
    "exp = 2\n",
    "print(n**2)\n",
    "\n",
    "#without power op\n",
    "result = 1\n",
    "for i in range(exp):\n",
    "    result = result*n\n",
    "print(result)"
   ]
  },
  {
   "cell_type": "markdown",
   "metadata": {},
   "source": [
    "Factor of a number"
   ]
  },
  {
   "cell_type": "code",
   "execution_count": 14,
   "metadata": {},
   "outputs": [
    {
     "name": "stdout",
     "output_type": "stream",
     "text": [
      "1 100 2 50 4 25 5 20 10 "
     ]
    }
   ],
   "source": [
    "import math\n",
    "\n",
    "def printFactor(n):\n",
    "    i = 1\n",
    "\n",
    "    while i <= math.sqrt(n):\n",
    "        \n",
    "        if n % i == 0:\n",
    "            if n // i == i:\n",
    "                print(i, end=' ')\n",
    "            else:\n",
    "                print(i, int(n / i), end=' ')\n",
    "        i = i + 1\n",
    "\n",
    "printFactor(100)"
   ]
  },
  {
   "cell_type": "markdown",
   "metadata": {},
   "source": [
    "Prime Factors"
   ]
  },
  {
   "cell_type": "code",
   "execution_count": 4,
   "metadata": {},
   "outputs": [
    {
     "name": "stdout",
     "output_type": "stream",
     "text": [
      "[2, 3, 5, 7]\n"
     ]
    }
   ],
   "source": [
    "def Primefact(n):\n",
    "\n",
    "    factors = []\n",
    "\n",
    "    while n%2 ==0:\n",
    "        factors.append(2)\n",
    "\n",
    "        n = n//2\n",
    "\n",
    "    for i in range(3, int(pow(n,0.5))+1, 2):\n",
    "\n",
    "        while n% i ==0:\n",
    "\n",
    "            factors.append(i)\n",
    "            n = n //i\n",
    "\n",
    "    if n > 2:\n",
    "        factors.append(n)\n",
    "\n",
    "    return factors\n",
    "\n",
    "print(Primefact(210))\n"
   ]
  },
  {
   "cell_type": "markdown",
   "metadata": {},
   "source": [
    "Strong number - A Number that is equal to the sum of the factorial of it's individual digits"
   ]
  },
  {
   "cell_type": "code",
   "execution_count": 5,
   "metadata": {},
   "outputs": [
    {
     "name": "stdout",
     "output_type": "stream",
     "text": [
      "strong number\n"
     ]
    }
   ],
   "source": [
    "def fact(x):\n",
    "\n",
    "    if x<=1:\n",
    "        return 1\n",
    "    return x*fact(x-1)\n",
    "\n",
    "def strong(n):\n",
    "\n",
    "    temp = n\n",
    "    sum = 0\n",
    "\n",
    "    while temp>=1:\n",
    "\n",
    "        l = temp%10\n",
    "\n",
    "        sum = sum + fact(l)\n",
    "\n",
    "        temp = temp//10\n",
    "\n",
    "    return n == sum\n",
    "\n",
    "ans = strong(145)\n",
    "\n",
    "if ans:\n",
    "\n",
    "    print('strong number')\n",
    "else:\n",
    "    print('not strong')\n"
   ]
  },
  {
   "cell_type": "markdown",
   "metadata": {},
   "source": [
    "Perfect number - A Number that can be represented as the sum of all the factors of the number "
   ]
  },
  {
   "cell_type": "code",
   "execution_count": 8,
   "metadata": {},
   "outputs": [
    {
     "name": "stdout",
     "output_type": "stream",
     "text": [
      "perfect number\n"
     ]
    }
   ],
   "source": [
    "def perfect(n):\n",
    "\n",
    "    sum = 0\n",
    "\n",
    "    for i in range(1, int(pow(n,0.5))):\n",
    "\n",
    "        if n%i == 0:\n",
    "\n",
    "            if i == 1:\n",
    "                sum = sum+i\n",
    "\n",
    "            elif i == n/i:\n",
    "                sum = sum+i\n",
    "\n",
    "            else :\n",
    "                sum = sum + i + (n/i)\n",
    "    \n",
    "    return n == sum\n",
    "\n",
    "ans = perfect(28)\n",
    "\n",
    "if ans:\n",
    "\n",
    "    print('perfect number')\n",
    "else:\n",
    "    print('not perfect')\n"
   ]
  },
  {
   "cell_type": "markdown",
   "metadata": {},
   "source": [
    "Perfect square"
   ]
  },
  {
   "cell_type": "code",
   "execution_count": 12,
   "metadata": {},
   "outputs": [
    {
     "name": "stdout",
     "output_type": "stream",
     "text": [
      "not perfect\n"
     ]
    }
   ],
   "source": [
    "from math import sqrt\n",
    "\n",
    "def perfectSq(n):\n",
    "    if n < 0:\n",
    "        return False\n",
    "    \n",
    "    root = int(sqrt(n))\n",
    "    return (root * root) == n\n",
    "\n",
    "ans = perfectSq(28)  \n",
    "\n",
    "if ans:\n",
    "    print('perfect square')\n",
    "else:\n",
    "    print('not perfect')\n"
   ]
  }
 ],
 "metadata": {
  "kernelspec": {
   "display_name": ".venv",
   "language": "python",
   "name": "python3"
  },
  "language_info": {
   "codemirror_mode": {
    "name": "ipython",
    "version": 3
   },
   "file_extension": ".py",
   "mimetype": "text/x-python",
   "name": "python",
   "nbconvert_exporter": "python",
   "pygments_lexer": "ipython3",
   "version": "3.12.3"
  }
 },
 "nbformat": 4,
 "nbformat_minor": 2
}
